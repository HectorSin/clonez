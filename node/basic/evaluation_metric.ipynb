{
 "cells": [
  {
   "cell_type": "markdown",
   "metadata": {},
   "source": [
    "# 1. Threshold"
   ]
  },
  {
   "cell_type": "code",
   "execution_count": 1,
   "metadata": {},
   "outputs": [
    {
     "data": {
      "text/plain": [
       "(150, 4)"
      ]
     },
     "execution_count": 1,
     "metadata": {},
     "output_type": "execute_result"
    }
   ],
   "source": [
    "from sklearn import datasets\n",
    "from sklearn.model_selection import train_test_split\n",
    "import numpy as np\n",
    "\n",
    "iris = datasets.load_iris()\n",
    "X = iris.data\n",
    "y = iris.target\n",
    "\n",
    "X.shape"
   ]
  },
  {
   "cell_type": "markdown",
   "metadata": {},
   "source": [
    "### Task 재구성"
   ]
  },
  {
   "cell_type": "code",
   "execution_count": 2,
   "metadata": {},
   "outputs": [
    {
     "data": {
      "text/plain": [
       "(150, 804)"
      ]
     },
     "execution_count": 2,
     "metadata": {},
     "output_type": "execute_result"
    }
   ],
   "source": [
    "# noise 추가\n",
    "\n",
    "random_state = np.random.RandomState(0)\n",
    "n_samples, n_features = X.shape\n",
    "X = np.c_[X, random_state.randn(n_samples, 200 * n_features)]\n",
    "X.shape"
   ]
  },
  {
   "cell_type": "code",
   "execution_count": 3,
   "metadata": {},
   "outputs": [
    {
     "name": "stdout",
     "output_type": "stream",
     "text": [
      "훈련, 테스트 셋에 사용된 라벨의 종류: {0, 1}\n",
      "훈련 데이터 shape: (50, 804)\n",
      "테스트 데이터 shape: (50, 804)\n"
     ]
    }
   ],
   "source": [
    "# 0, 1 라벨에 속하는 붓꽃 샘플만 사용하도록 제한\n",
    "X_train, X_test, y_train, y_test = train_test_split(X[y<2], y[y<2], \n",
    "                                                                        test_size=0.5, \n",
    "                                                                        random_state=random_state)\n",
    "print(f\"훈련, 테스트 셋에 사용된 라벨의 종류: {set(y_test)}\")\n",
    "print(f\"훈련 데이터 shape: {X_train.shape}\")\n",
    "print(f\"테스트 데이터 shape: {X_test.shape}\")\n"
   ]
  },
  {
   "cell_type": "markdown",
   "metadata": {},
   "source": [
    "### SVM 학습"
   ]
  },
  {
   "cell_type": "code",
   "execution_count": 5,
   "metadata": {},
   "outputs": [
    {
     "data": {
      "text/plain": [
       "0.48"
      ]
     },
     "execution_count": 5,
     "metadata": {},
     "output_type": "execute_result"
    }
   ],
   "source": [
    "from sklearn import svm\n",
    "\n",
    "classifier = svm.SVC(kernel=\"poly\", random_state=random_state)\n",
    "classifier.fit(X_train, y_train)\n",
    "\n",
    "classifier.score(X_test, y_test)"
   ]
  },
  {
   "cell_type": "markdown",
   "metadata": {},
   "source": [
    "이진 분류인데도 불구하고 0.48의 굉장히 낮은 성능"
   ]
  },
  {
   "cell_type": "code",
   "execution_count": 6,
   "metadata": {},
   "outputs": [
    {
     "data": {
      "text/plain": [
       "0.8"
      ]
     },
     "execution_count": 6,
     "metadata": {},
     "output_type": "execute_result"
    }
   ],
   "source": [
    "classifier = svm.SVC(kernel=\"linear\", random_state=random_state)\n",
    "classifier.fit(X_train, y_train)\n",
    "\n",
    "classifier.score(X_test, y_test)"
   ]
  },
  {
   "cell_type": "markdown",
   "metadata": {},
   "source": [
    "kernel을 linear 로 변경하니 성능이 향상"
   ]
  },
  {
   "cell_type": "code",
   "execution_count": 7,
   "metadata": {},
   "outputs": [
    {
     "data": {
      "text/plain": [
       "array([0, 1, 1, 1, 1, 0, 0, 0, 1, 0, 0, 0, 0, 1, 1, 0, 1, 0, 0, 0, 1, 0,\n",
       "       0, 1, 1, 0, 1, 1, 0, 0, 0, 1, 0, 1, 0, 1, 0, 0, 0, 0, 1, 1, 1, 1,\n",
       "       0, 1, 1, 1, 0, 1])"
      ]
     },
     "execution_count": 7,
     "metadata": {},
     "output_type": "execute_result"
    }
   ],
   "source": [
    "classifier.predict(X_test)"
   ]
  },
  {
   "cell_type": "code",
   "execution_count": 8,
   "metadata": {},
   "outputs": [
    {
     "data": {
      "text/plain": [
       "array([1, 1, 1, 1, 1, 0, 1, 0, 1, 0, 0, 1, 0, 0, 1, 0, 0, 0, 1, 0, 1, 0,\n",
       "       0, 1, 1, 1, 1, 1, 0, 0, 0, 1, 0, 1, 0, 1, 0, 0, 0, 0, 1, 1, 1, 1,\n",
       "       0, 1, 1, 0, 1, 0])"
      ]
     },
     "execution_count": 8,
     "metadata": {},
     "output_type": "execute_result"
    }
   ],
   "source": [
    "y_test"
   ]
  },
  {
   "cell_type": "code",
   "execution_count": 9,
   "metadata": {},
   "outputs": [
    {
     "name": "stdout",
     "output_type": "stream",
     "text": [
      "[-0.29512751  0.28798352  0.17635465  0.19056886  0.38391605 -0.30841065\n",
      " -0.10084254 -0.23481309  0.18576987 -0.36011033 -0.15726747 -0.25714889\n",
      " -0.14979669  0.02063898  0.04509171 -0.17239443  0.07287957 -0.0689103\n",
      " -0.13452462 -0.30697712  0.25404241 -0.28916471 -0.52061453  0.25252233\n",
      "  0.02177777 -0.10980907  0.37468422  0.35303004 -0.6211302  -0.42920064\n",
      " -0.14770647  0.00593404 -0.34735296  0.32245409 -0.19439024  0.1288847\n",
      " -0.0320947  -0.23008604 -0.10135548 -0.46962186  0.05184235  0.0609688\n",
      "  0.05632596  0.44769206 -0.38804349  0.24704844  0.16063684  0.0144203\n",
      " -0.03136574  0.11179177]\n"
     ]
    }
   ],
   "source": [
    "# Logistic Regression 모델과 달리 SVM의 별도 범위 값을 값는 함수 decision_function (-1~1)\n",
    "# 0보다 작으면 음성, 0보다 크면 양성이다.\n",
    "y_score = classifier.decision_function(X_test)\n",
    "print(y_score)"
   ]
  },
  {
   "cell_type": "code",
   "execution_count": 10,
   "metadata": {},
   "outputs": [
    {
     "name": "stdout",
     "output_type": "stream",
     "text": [
      "[[20  4]\n",
      " [ 6 20]]\n",
      "              precision    recall  f1-score   support\n",
      "\n",
      "           0       0.77      0.83      0.80        24\n",
      "           1       0.83      0.77      0.80        26\n",
      "\n",
      "    accuracy                           0.80        50\n",
      "   macro avg       0.80      0.80      0.80        50\n",
      "weighted avg       0.80      0.80      0.80        50\n",
      "\n"
     ]
    }
   ],
   "source": [
    "# confusion matrix\n",
    "from sklearn.metrics import confusion_matrix, classification_report\n",
    "\n",
    "y_pred = classifier.predict(X_test)\n",
    "conf_mat = confusion_matrix(y_test, y_pred)\n",
    "print(conf_mat)\n",
    "report_result = classification_report(y_test, y_pred)\n",
    "print(report_result)\n"
   ]
  },
  {
   "cell_type": "markdown",
   "metadata": {},
   "source": [
    "0보다 큰 값을 양성으로 분류했다. 이번에는 -0.1 보다 클 경우의 양성 분류를 테스트 해보겠다."
   ]
  },
  {
   "cell_type": "code",
   "execution_count": 33,
   "metadata": {},
   "outputs": [
    {
     "name": "stdout",
     "output_type": "stream",
     "text": [
      "[[15  9]\n",
      " [ 2 24]]\n",
      "              precision    recall  f1-score   support\n",
      "\n",
      "           0       0.88      0.62      0.73        24\n",
      "           1       0.73      0.92      0.81        26\n",
      "\n",
      "    accuracy                           0.78        50\n",
      "   macro avg       0.80      0.77      0.77        50\n",
      "weighted avg       0.80      0.78      0.77        50\n",
      "\n"
     ]
    }
   ],
   "source": [
    "y_pred_new_threshold = classifier.decision_function(X_test) > -0.15\n",
    "conf_mat = confusion_matrix(y_test, y_pred_new_threshold)\n",
    "print(conf_mat)\n",
    "report_result = classification_report(y_test, y_pred_new_threshold)\n",
    "print(report_result)"
   ]
  },
  {
   "cell_type": "markdown",
   "metadata": {},
   "source": [
    "# 2. Precision-Recall 커브"
   ]
  },
  {
   "cell_type": "code",
   "execution_count": 36,
   "metadata": {},
   "outputs": [
    {
     "data": {
      "image/png": "[encoded data removed]",
      "text/plain": [
       "<Figure size 640x480 with 1 Axes>"
      ]
     },
     "metadata": {},
     "output_type": "display_data"
    }
   ],
   "source": [
    "from sklearn.metrics import PrecisionRecallDisplay\n",
    "import matplotlib.pyplot as plt\n",
    "\n",
    "display = PrecisionRecallDisplay.from_estimator(classifier, X_test, y_test)\n",
    "display.ax_.set_title(f\"binary class Precision-Recall curve AP={display.average_precision:0.2f}\")\n",
    "display.ax_.grid()\n",
    "\n",
    "plt.show()"
   ]
  },
  {
   "cell_type": "markdown",
   "metadata": {},
   "source": [
    "### PR AUC\n",
    "$AP=\\sum_{i=1}^{n}(R_{i}-R_{i-1})P_{i}$"
   ]
  },
  {
   "cell_type": "code",
   "execution_count": 37,
   "metadata": {},
   "outputs": [
    {
     "name": "stdout",
     "output_type": "stream",
     "text": [
      "평균 precision-recall score: 0.76\n"
     ]
    }
   ],
   "source": [
    "from sklearn.metrics import average_precision_score\n",
    "average_precision = average_precision_score(y_test, y_pred)\n",
    "\n",
    "print(f\"평균 precision-recall score: {average_precision:0.2f}\")"
   ]
  },
  {
   "cell_type": "code",
   "execution_count": 40,
   "metadata": {},
   "outputs": [
    {
     "name": "stdout",
     "output_type": "stream",
     "text": [
      "poly 평균 precision-recall score: 0.76\n"
     ]
    }
   ],
   "source": [
    "# SVM의 poly 커널 average_precision_score\n",
    "\n",
    "poly_classifier = svm.SVC(kernel=\"poly\", random_state=random_state)\n",
    "poly_classifier.fit(X_train, y_train)\n",
    "y_pred = poly_classifier.predict(X_test)\n",
    "poly_average_precision = average_precision_score(y_test, y_pred)\n",
    "print(f\"poly 평균 precision-recall score: {average_precision:0.2f}\")"
   ]
  },
  {
   "cell_type": "code",
   "execution_count": 41,
   "metadata": {},
   "outputs": [
    {
     "data": {
      "text/plain": [
       "Text(0.5, 1.0, 'binary class precision-recall curve: AP=0.52')"
      ]
     },
     "execution_count": 41,
     "metadata": {},
     "output_type": "execute_result"
    },
    {
     "data": {
      "image/png": "[encoded data removed]",
      "text/plain": [
       "<Figure size 640x480 with 1 Axes>"
      ]
     },
     "metadata": {},
     "output_type": "display_data"
    }
   ],
   "source": [
    "display = PrecisionRecallDisplay.from_estimator(poly_classifier, X_test, y_test)\n",
    "display.ax_.set_title(f\"binary class precision-recall curve: AP={poly_average_precision}\")"
   ]
  },
  {
   "cell_type": "markdown",
   "metadata": {},
   "source": [
    "# 3. ROC 커브\n",
    "* ROC(Receiver Operating Characteristic Curve)\n",
    "* ROC는 Confusion Matrix 수치를 활용해, 분류 성능을 그래프로 표현하는 방법이다.\n",
    "---\n",
    "### ROC 곡선\n",
    "* ROC를 그리는 축인 TP Rate와 FP Rate는 Precision, Recall 과 비슷해보이지만 조금 다른 개념이다.\n",
    "* TP Rate와 FP Rate 계산 방법\n",
    "  - $TPR(Sensitivity)=\\frac{TP}{TP+FN}$\n",
    "  - $FPR(1-Sensifivity)=\\frac{FP}{TN+FP}$\n",
    "* TP Rate(TPR) 수식은 Recall이다.\n",
    "* FP Rate는 음성 샘플에 대한 Recall이다."
   ]
  },
  {
   "cell_type": "code",
   "execution_count": 45,
   "metadata": {},
   "outputs": [],
   "source": [
    "from sklearn.metrics import roc_curve, auc\n",
    "\n",
    "fpr, tpr, _ = roc_curve(y_test, y_score)\n",
    "roc_auc = auc(fpr, tpr)"
   ]
  },
  {
   "cell_type": "code",
   "execution_count": 67,
   "metadata": {},
   "outputs": [
    {
     "data": {
      "text/plain": [
       "<matplotlib.legend.Legend at 0x16c3d70e0>"
      ]
     },
     "execution_count": 67,
     "metadata": {},
     "output_type": "execute_result"
    },
    {
     "data": {
      "image/png": "[encoded data removed]",
      "text/plain": [
       "<Figure size 640x480 with 1 Axes>"
      ]
     },
     "metadata": {},
     "output_type": "display_data"
    }
   ],
   "source": [
    "plt.figure()\n",
    "plt.plot(fpr, tpr, label=\"ROC curve\", color=\"orange\", lw=2)\n",
    "plt.plot([0, 1], [0, 1], color=\"blue\", linestyle=\"dotted\")\n",
    "plt.ylabel(\"TPR\")\n",
    "plt.xlabel(\"FPR\")\n",
    "plt.title(f\"ROC AUC {round(roc_auc, 2)}\")\n",
    "plt.legend(loc=\"lower right\")"
   ]
  },
  {
   "cell_type": "code",
   "execution_count": null,
   "metadata": {},
   "outputs": [],
   "source": []
  }
 ],
 "metadata": {
  "kernelspec": {
   "display_name": "aiffel-research",
   "language": "python",
   "name": "python3"
  },
  "language_info": {
   "codemirror_mode": {
    "name": "ipython",
    "version": 3
   },
   "file_extension": ".py",
   "mimetype": "text/x-python",
   "name": "python",
   "nbconvert_exporter": "python",
   "pygments_lexer": "ipython3",
   "version": "3.12.3"
  }
 },
 "nbformat": 4,
 "nbformat_minor": 2
}
