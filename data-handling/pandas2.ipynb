{
 "cells": [
  {
   "cell_type": "code",
   "execution_count": 2,
   "metadata": {},
   "outputs": [
    {
     "data": {
      "text/html": [
       "<div>\n",
       "<style scoped>\n",
       "    .dataframe tbody tr th:only-of-type {\n",
       "        vertical-align: middle;\n",
       "    }\n",
       "\n",
       "    .dataframe tbody tr th {\n",
       "        vertical-align: top;\n",
       "    }\n",
       "\n",
       "    .dataframe thead th {\n",
       "        text-align: right;\n",
       "    }\n",
       "</style>\n",
       "<table border=\"1\" class=\"dataframe\">\n",
       "  <thead>\n",
       "    <tr style=\"text-align: right;\">\n",
       "      <th></th>\n",
       "      <th>메뉴</th>\n",
       "      <th>가격</th>\n",
       "      <th>호수</th>\n",
       "      <th>칼로리</th>\n",
       "      <th>할인율</th>\n",
       "      <th>할인가</th>\n",
       "      <th>원산지</th>\n",
       "    </tr>\n",
       "    <tr>\n",
       "      <th>Unnamed: 0</th>\n",
       "      <th></th>\n",
       "      <th></th>\n",
       "      <th></th>\n",
       "      <th></th>\n",
       "      <th></th>\n",
       "      <th></th>\n",
       "      <th></th>\n",
       "    </tr>\n",
       "  </thead>\n",
       "  <tbody>\n",
       "    <tr>\n",
       "      <th>0</th>\n",
       "      <td>황금후라이드</td>\n",
       "      <td>12000</td>\n",
       "      <td>10호</td>\n",
       "      <td>1000.0</td>\n",
       "      <td>0.2</td>\n",
       "      <td>9600.0</td>\n",
       "      <td>국내산</td>\n",
       "    </tr>\n",
       "    <tr>\n",
       "      <th>1</th>\n",
       "      <td>승일양념치킨</td>\n",
       "      <td>13000</td>\n",
       "      <td>10호</td>\n",
       "      <td>1400.0</td>\n",
       "      <td>0.2</td>\n",
       "      <td>10400.0</td>\n",
       "      <td>NaN</td>\n",
       "    </tr>\n",
       "    <tr>\n",
       "      <th>2</th>\n",
       "      <td>간장치킨</td>\n",
       "      <td>14000</td>\n",
       "      <td>9호</td>\n",
       "      <td>1600.0</td>\n",
       "      <td>0.2</td>\n",
       "      <td>11200.0</td>\n",
       "      <td>NaN</td>\n",
       "    </tr>\n",
       "    <tr>\n",
       "      <th>3</th>\n",
       "      <td>마늘치킨</td>\n",
       "      <td>14000</td>\n",
       "      <td>9호</td>\n",
       "      <td>1800.0</td>\n",
       "      <td>0.2</td>\n",
       "      <td>11200.0</td>\n",
       "      <td>NaN</td>\n",
       "    </tr>\n",
       "    <tr>\n",
       "      <th>4</th>\n",
       "      <td>파닭</td>\n",
       "      <td>14000</td>\n",
       "      <td>11호</td>\n",
       "      <td>1300.0</td>\n",
       "      <td>0.2</td>\n",
       "      <td>11200.0</td>\n",
       "      <td>브라질</td>\n",
       "    </tr>\n",
       "    <tr>\n",
       "      <th>5</th>\n",
       "      <td>닭강정</td>\n",
       "      <td>15000</td>\n",
       "      <td>12호</td>\n",
       "      <td>1500.0</td>\n",
       "      <td>0.2</td>\n",
       "      <td>12000.0</td>\n",
       "      <td>브라질</td>\n",
       "    </tr>\n",
       "    <tr>\n",
       "      <th>6</th>\n",
       "      <td>양념반후라이드반</td>\n",
       "      <td>13000</td>\n",
       "      <td>10호</td>\n",
       "      <td>1300.0</td>\n",
       "      <td>0.2</td>\n",
       "      <td>10400.0</td>\n",
       "      <td>NaN</td>\n",
       "    </tr>\n",
       "    <tr>\n",
       "      <th>new</th>\n",
       "      <td>[인기]아이펠치킨</td>\n",
       "      <td>16000</td>\n",
       "      <td>11호</td>\n",
       "      <td>1200.0</td>\n",
       "      <td>0.5</td>\n",
       "      <td>8000.0</td>\n",
       "      <td>국내산</td>\n",
       "    </tr>\n",
       "    <tr>\n",
       "      <th>10</th>\n",
       "      <td>[베스트]풀잎치킨</td>\n",
       "      <td>9900</td>\n",
       "      <td>10호</td>\n",
       "      <td>NaN</td>\n",
       "      <td>NaN</td>\n",
       "      <td>NaN</td>\n",
       "      <td>NaN</td>\n",
       "    </tr>\n",
       "  </tbody>\n",
       "</table>\n",
       "</div>"
      ],
      "text/plain": [
       "                   메뉴     가격   호수     칼로리  할인율      할인가  원산지\n",
       "Unnamed: 0                                                  \n",
       "0              황금후라이드  12000  10호  1000.0  0.2   9600.0  국내산\n",
       "1              승일양념치킨  13000  10호  1400.0  0.2  10400.0  NaN\n",
       "2                간장치킨  14000   9호  1600.0  0.2  11200.0  NaN\n",
       "3                마늘치킨  14000   9호  1800.0  0.2  11200.0  NaN\n",
       "4                  파닭  14000  11호  1300.0  0.2  11200.0  브라질\n",
       "5                 닭강정  15000  12호  1500.0  0.2  12000.0  브라질\n",
       "6            양념반후라이드반  13000  10호  1300.0  0.2  10400.0  NaN\n",
       "new         [인기]아이펠치킨  16000  11호  1200.0  0.5   8000.0  국내산\n",
       "10          [베스트]풀잎치킨   9900  10호     NaN  NaN      NaN  NaN"
      ]
     },
     "execution_count": 2,
     "metadata": {},
     "output_type": "execute_result"
    }
   ],
   "source": [
    "import pandas as pd \n",
    "import numpy as np\n",
    "df = pd.DataFrame({\n",
    "    'Unnamed: 0': [0,1,2,3,4,5,6,'new',10],\n",
    "    '메뉴': ['황금후라이드','승일양념치킨','간장치킨','마늘치킨','파닭','닭강정','양념반후라이드반','[인기]아이펠치킨','[베스트]풀잎치킨'],\n",
    "    '가격': [12000,13000,14000,14000,14000,15000,13000,16000,9900],\n",
    "    '호수' : ['10호','10호','9호','9호','11호','12호','10호','11호','10호'],\n",
    "    '칼로리' : [1000.0,1400.0,1600.0,1800.0,1300.0,1500.0,1300.0,1200.0,np.nan],\n",
    "    '할인율' : [0.2,0.2,0.2,0.2,0.2,0.2,0.2,0.5,np.nan],\n",
    "    '할인가' : [9600.0,10400.0,11200.0,11200.0,11200.0,12000.0,10400.0,8000.0,np.nan],\n",
    "    '원산지' : ['국내산',np.nan,np.nan,np.nan,'브라질','브라질',np.nan,'국내산',np.nan]\n",
    "})\n",
    "df.to_csv('new_modudak.csv', index=False)\n",
    "df\n",
    "# Q. 위에서 만든 'new_modudak.csv' 파일을 불러와주세요. 이때 'Unnamed: 0' 컬럼을 index로 지정해주세요.\n",
    "df = pd.read_csv(\"new_modudak.csv\", index_col=\"Unnamed: 0\")\n",
    "df"
   ]
  },
  {
   "cell_type": "markdown",
   "metadata": {},
   "source": [
    "### 데이터 삭제"
   ]
  },
  {
   "cell_type": "code",
   "execution_count": 3,
   "metadata": {},
   "outputs": [
    {
     "data": {
      "text/html": [
       "<div>\n",
       "<style scoped>\n",
       "    .dataframe tbody tr th:only-of-type {\n",
       "        vertical-align: middle;\n",
       "    }\n",
       "\n",
       "    .dataframe tbody tr th {\n",
       "        vertical-align: top;\n",
       "    }\n",
       "\n",
       "    .dataframe thead th {\n",
       "        text-align: right;\n",
       "    }\n",
       "</style>\n",
       "<table border=\"1\" class=\"dataframe\">\n",
       "  <thead>\n",
       "    <tr style=\"text-align: right;\">\n",
       "      <th></th>\n",
       "      <th>메뉴</th>\n",
       "      <th>가격</th>\n",
       "      <th>호수</th>\n",
       "      <th>칼로리</th>\n",
       "      <th>할인율</th>\n",
       "      <th>할인가</th>\n",
       "      <th>원산지</th>\n",
       "    </tr>\n",
       "  </thead>\n",
       "  <tbody>\n",
       "    <tr>\n",
       "      <th>0</th>\n",
       "      <td>황금후라이드</td>\n",
       "      <td>12000</td>\n",
       "      <td>10호</td>\n",
       "      <td>1000.0</td>\n",
       "      <td>0.2</td>\n",
       "      <td>9600.0</td>\n",
       "      <td>국내산</td>\n",
       "    </tr>\n",
       "    <tr>\n",
       "      <th>1</th>\n",
       "      <td>승일양념치킨</td>\n",
       "      <td>13000</td>\n",
       "      <td>10호</td>\n",
       "      <td>1400.0</td>\n",
       "      <td>0.2</td>\n",
       "      <td>10400.0</td>\n",
       "      <td>NaN</td>\n",
       "    </tr>\n",
       "    <tr>\n",
       "      <th>2</th>\n",
       "      <td>간장치킨</td>\n",
       "      <td>14000</td>\n",
       "      <td>9호</td>\n",
       "      <td>1600.0</td>\n",
       "      <td>0.2</td>\n",
       "      <td>11200.0</td>\n",
       "      <td>NaN</td>\n",
       "    </tr>\n",
       "    <tr>\n",
       "      <th>3</th>\n",
       "      <td>마늘치킨</td>\n",
       "      <td>14000</td>\n",
       "      <td>9호</td>\n",
       "      <td>1800.0</td>\n",
       "      <td>0.2</td>\n",
       "      <td>11200.0</td>\n",
       "      <td>NaN</td>\n",
       "    </tr>\n",
       "    <tr>\n",
       "      <th>4</th>\n",
       "      <td>파닭</td>\n",
       "      <td>14000</td>\n",
       "      <td>11호</td>\n",
       "      <td>1300.0</td>\n",
       "      <td>0.2</td>\n",
       "      <td>11200.0</td>\n",
       "      <td>브라질</td>\n",
       "    </tr>\n",
       "    <tr>\n",
       "      <th>6</th>\n",
       "      <td>양념반후라이드반</td>\n",
       "      <td>13000</td>\n",
       "      <td>10호</td>\n",
       "      <td>1300.0</td>\n",
       "      <td>0.2</td>\n",
       "      <td>10400.0</td>\n",
       "      <td>NaN</td>\n",
       "    </tr>\n",
       "    <tr>\n",
       "      <th>8</th>\n",
       "      <td>[베스트]풀잎치킨</td>\n",
       "      <td>9900</td>\n",
       "      <td>10호</td>\n",
       "      <td>NaN</td>\n",
       "      <td>NaN</td>\n",
       "      <td>NaN</td>\n",
       "      <td>NaN</td>\n",
       "    </tr>\n",
       "  </tbody>\n",
       "</table>\n",
       "</div>"
      ],
      "text/plain": [
       "          메뉴     가격   호수     칼로리  할인율      할인가  원산지\n",
       "0     황금후라이드  12000  10호  1000.0  0.2   9600.0  국내산\n",
       "1     승일양념치킨  13000  10호  1400.0  0.2  10400.0  NaN\n",
       "2       간장치킨  14000   9호  1600.0  0.2  11200.0  NaN\n",
       "3       마늘치킨  14000   9호  1800.0  0.2  11200.0  NaN\n",
       "4         파닭  14000  11호  1300.0  0.2  11200.0  브라질\n",
       "6   양념반후라이드반  13000  10호  1300.0  0.2  10400.0  NaN\n",
       "8  [베스트]풀잎치킨   9900  10호     NaN  NaN      NaN  NaN"
      ]
     },
     "execution_count": 3,
     "metadata": {},
     "output_type": "execute_result"
    }
   ],
   "source": [
    "# Q. 다음 df 변수의 데이터에서 'Unnamed: 0' 컬럼을 삭제하고, \n",
    "# 가격이 15000이상인 메뉴를 삭제해주세요.\n",
    "df = pd.read_csv('new_modudak.csv')\n",
    "df.drop(columns=[\"Unnamed: 0\"], inplace=True)\n",
    "cond = df[\"가격\"] >= 15_000\n",
    "\n",
    "df.drop(df[cond].index, axis=0)"
   ]
  },
  {
   "cell_type": "markdown",
   "metadata": {},
   "source": [
    "### 결측치 처리"
   ]
  },
  {
   "cell_type": "code",
   "execution_count": 9,
   "metadata": {},
   "outputs": [
    {
     "name": "stdout",
     "output_type": "stream",
     "text": [
      "Unnamed: 0    0\n",
      "메뉴            0\n",
      "가격            0\n",
      "호수            0\n",
      "칼로리           1\n",
      "할인율           1\n",
      "할인가           1\n",
      "원산지           5\n",
      "dtype: int64\n"
     ]
    },
    {
     "data": {
      "text/html": [
       "<div>\n",
       "<style scoped>\n",
       "    .dataframe tbody tr th:only-of-type {\n",
       "        vertical-align: middle;\n",
       "    }\n",
       "\n",
       "    .dataframe tbody tr th {\n",
       "        vertical-align: top;\n",
       "    }\n",
       "\n",
       "    .dataframe thead th {\n",
       "        text-align: right;\n",
       "    }\n",
       "</style>\n",
       "<table border=\"1\" class=\"dataframe\">\n",
       "  <thead>\n",
       "    <tr style=\"text-align: right;\">\n",
       "      <th></th>\n",
       "      <th>Unnamed: 0</th>\n",
       "      <th>메뉴</th>\n",
       "      <th>가격</th>\n",
       "      <th>호수</th>\n",
       "      <th>칼로리</th>\n",
       "      <th>할인율</th>\n",
       "      <th>할인가</th>\n",
       "      <th>원산지</th>\n",
       "    </tr>\n",
       "  </thead>\n",
       "  <tbody>\n",
       "    <tr>\n",
       "      <th>0</th>\n",
       "      <td>0</td>\n",
       "      <td>황금후라이드</td>\n",
       "      <td>12000</td>\n",
       "      <td>10호</td>\n",
       "      <td>1000.0</td>\n",
       "      <td>0.2</td>\n",
       "      <td>9600.0</td>\n",
       "      <td>국내산</td>\n",
       "    </tr>\n",
       "    <tr>\n",
       "      <th>1</th>\n",
       "      <td>1</td>\n",
       "      <td>승일양념치킨</td>\n",
       "      <td>13000</td>\n",
       "      <td>10호</td>\n",
       "      <td>1400.0</td>\n",
       "      <td>0.2</td>\n",
       "      <td>10400.0</td>\n",
       "      <td>빵꾸</td>\n",
       "    </tr>\n",
       "    <tr>\n",
       "      <th>2</th>\n",
       "      <td>2</td>\n",
       "      <td>간장치킨</td>\n",
       "      <td>14000</td>\n",
       "      <td>9호</td>\n",
       "      <td>1600.0</td>\n",
       "      <td>0.2</td>\n",
       "      <td>11200.0</td>\n",
       "      <td>빵꾸</td>\n",
       "    </tr>\n",
       "    <tr>\n",
       "      <th>3</th>\n",
       "      <td>3</td>\n",
       "      <td>마늘치킨</td>\n",
       "      <td>14000</td>\n",
       "      <td>9호</td>\n",
       "      <td>1800.0</td>\n",
       "      <td>0.2</td>\n",
       "      <td>11200.0</td>\n",
       "      <td>빵꾸</td>\n",
       "    </tr>\n",
       "    <tr>\n",
       "      <th>4</th>\n",
       "      <td>4</td>\n",
       "      <td>파닭</td>\n",
       "      <td>14000</td>\n",
       "      <td>11호</td>\n",
       "      <td>1300.0</td>\n",
       "      <td>0.2</td>\n",
       "      <td>11200.0</td>\n",
       "      <td>브라질</td>\n",
       "    </tr>\n",
       "    <tr>\n",
       "      <th>5</th>\n",
       "      <td>5</td>\n",
       "      <td>닭강정</td>\n",
       "      <td>15000</td>\n",
       "      <td>12호</td>\n",
       "      <td>1500.0</td>\n",
       "      <td>0.2</td>\n",
       "      <td>12000.0</td>\n",
       "      <td>브라질</td>\n",
       "    </tr>\n",
       "    <tr>\n",
       "      <th>6</th>\n",
       "      <td>6</td>\n",
       "      <td>양념반후라이드반</td>\n",
       "      <td>13000</td>\n",
       "      <td>10호</td>\n",
       "      <td>1300.0</td>\n",
       "      <td>0.2</td>\n",
       "      <td>10400.0</td>\n",
       "      <td>빵꾸</td>\n",
       "    </tr>\n",
       "    <tr>\n",
       "      <th>7</th>\n",
       "      <td>new</td>\n",
       "      <td>[인기]아이펠치킨</td>\n",
       "      <td>16000</td>\n",
       "      <td>11호</td>\n",
       "      <td>1200.0</td>\n",
       "      <td>0.5</td>\n",
       "      <td>8000.0</td>\n",
       "      <td>국내산</td>\n",
       "    </tr>\n",
       "    <tr>\n",
       "      <th>8</th>\n",
       "      <td>10</td>\n",
       "      <td>[베스트]풀잎치킨</td>\n",
       "      <td>9900</td>\n",
       "      <td>10호</td>\n",
       "      <td>빵꾸</td>\n",
       "      <td>빵꾸</td>\n",
       "      <td>빵꾸</td>\n",
       "      <td>빵꾸</td>\n",
       "    </tr>\n",
       "  </tbody>\n",
       "</table>\n",
       "</div>"
      ],
      "text/plain": [
       "  Unnamed: 0         메뉴     가격   호수     칼로리  할인율      할인가  원산지\n",
       "0          0     황금후라이드  12000  10호  1000.0  0.2   9600.0  국내산\n",
       "1          1     승일양념치킨  13000  10호  1400.0  0.2  10400.0   빵꾸\n",
       "2          2       간장치킨  14000   9호  1600.0  0.2  11200.0   빵꾸\n",
       "3          3       마늘치킨  14000   9호  1800.0  0.2  11200.0   빵꾸\n",
       "4          4         파닭  14000  11호  1300.0  0.2  11200.0  브라질\n",
       "5          5        닭강정  15000  12호  1500.0  0.2  12000.0  브라질\n",
       "6          6   양념반후라이드반  13000  10호  1300.0  0.2  10400.0   빵꾸\n",
       "7        new  [인기]아이펠치킨  16000  11호  1200.0  0.5   8000.0  국내산\n",
       "8         10  [베스트]풀잎치킨   9900  10호      빵꾸   빵꾸       빵꾸   빵꾸"
      ]
     },
     "execution_count": 9,
     "metadata": {},
     "output_type": "execute_result"
    }
   ],
   "source": [
    "# Q. 다음 df 변수의 데이터에서 결측치가 칼럼별로 몇 개가 있는지 확인하고,\n",
    "# 결측치를 '빵꾸'로 채워주세요.\n",
    "df = pd.read_csv('new_modudak.csv')\n",
    "print(df.isnull().sum())\n",
    "df = df.fillna(\"빵꾸\")\n",
    "df"
   ]
  },
  {
   "cell_type": "markdown",
   "metadata": {},
   "source": [
    "### 정렬"
   ]
  },
  {
   "cell_type": "code",
   "execution_count": 10,
   "metadata": {},
   "outputs": [
    {
     "data": {
      "text/html": [
       "<div>\n",
       "<style scoped>\n",
       "    .dataframe tbody tr th:only-of-type {\n",
       "        vertical-align: middle;\n",
       "    }\n",
       "\n",
       "    .dataframe tbody tr th {\n",
       "        vertical-align: top;\n",
       "    }\n",
       "\n",
       "    .dataframe thead th {\n",
       "        text-align: right;\n",
       "    }\n",
       "</style>\n",
       "<table border=\"1\" class=\"dataframe\">\n",
       "  <thead>\n",
       "    <tr style=\"text-align: right;\">\n",
       "      <th></th>\n",
       "      <th>Unnamed: 0</th>\n",
       "      <th>메뉴</th>\n",
       "      <th>가격</th>\n",
       "      <th>호수</th>\n",
       "      <th>칼로리</th>\n",
       "      <th>할인율</th>\n",
       "      <th>할인가</th>\n",
       "      <th>원산지</th>\n",
       "    </tr>\n",
       "  </thead>\n",
       "  <tbody>\n",
       "    <tr>\n",
       "      <th>3</th>\n",
       "      <td>3</td>\n",
       "      <td>마늘치킨</td>\n",
       "      <td>14000</td>\n",
       "      <td>9호</td>\n",
       "      <td>1800.0</td>\n",
       "      <td>0.2</td>\n",
       "      <td>11200.0</td>\n",
       "      <td>NaN</td>\n",
       "    </tr>\n",
       "    <tr>\n",
       "      <th>2</th>\n",
       "      <td>2</td>\n",
       "      <td>간장치킨</td>\n",
       "      <td>14000</td>\n",
       "      <td>9호</td>\n",
       "      <td>1600.0</td>\n",
       "      <td>0.2</td>\n",
       "      <td>11200.0</td>\n",
       "      <td>NaN</td>\n",
       "    </tr>\n",
       "    <tr>\n",
       "      <th>5</th>\n",
       "      <td>5</td>\n",
       "      <td>닭강정</td>\n",
       "      <td>15000</td>\n",
       "      <td>12호</td>\n",
       "      <td>1500.0</td>\n",
       "      <td>0.2</td>\n",
       "      <td>12000.0</td>\n",
       "      <td>브라질</td>\n",
       "    </tr>\n",
       "    <tr>\n",
       "      <th>1</th>\n",
       "      <td>1</td>\n",
       "      <td>승일양념치킨</td>\n",
       "      <td>13000</td>\n",
       "      <td>10호</td>\n",
       "      <td>1400.0</td>\n",
       "      <td>0.2</td>\n",
       "      <td>10400.0</td>\n",
       "      <td>NaN</td>\n",
       "    </tr>\n",
       "    <tr>\n",
       "      <th>4</th>\n",
       "      <td>4</td>\n",
       "      <td>파닭</td>\n",
       "      <td>14000</td>\n",
       "      <td>11호</td>\n",
       "      <td>1300.0</td>\n",
       "      <td>0.2</td>\n",
       "      <td>11200.0</td>\n",
       "      <td>브라질</td>\n",
       "    </tr>\n",
       "    <tr>\n",
       "      <th>6</th>\n",
       "      <td>6</td>\n",
       "      <td>양념반후라이드반</td>\n",
       "      <td>13000</td>\n",
       "      <td>10호</td>\n",
       "      <td>1300.0</td>\n",
       "      <td>0.2</td>\n",
       "      <td>10400.0</td>\n",
       "      <td>NaN</td>\n",
       "    </tr>\n",
       "    <tr>\n",
       "      <th>7</th>\n",
       "      <td>new</td>\n",
       "      <td>[인기]아이펠치킨</td>\n",
       "      <td>16000</td>\n",
       "      <td>11호</td>\n",
       "      <td>1200.0</td>\n",
       "      <td>0.5</td>\n",
       "      <td>8000.0</td>\n",
       "      <td>국내산</td>\n",
       "    </tr>\n",
       "    <tr>\n",
       "      <th>0</th>\n",
       "      <td>0</td>\n",
       "      <td>황금후라이드</td>\n",
       "      <td>12000</td>\n",
       "      <td>10호</td>\n",
       "      <td>1000.0</td>\n",
       "      <td>0.2</td>\n",
       "      <td>9600.0</td>\n",
       "      <td>국내산</td>\n",
       "    </tr>\n",
       "    <tr>\n",
       "      <th>8</th>\n",
       "      <td>10</td>\n",
       "      <td>[베스트]풀잎치킨</td>\n",
       "      <td>9900</td>\n",
       "      <td>10호</td>\n",
       "      <td>NaN</td>\n",
       "      <td>NaN</td>\n",
       "      <td>NaN</td>\n",
       "      <td>NaN</td>\n",
       "    </tr>\n",
       "  </tbody>\n",
       "</table>\n",
       "</div>"
      ],
      "text/plain": [
       "  Unnamed: 0         메뉴     가격   호수     칼로리  할인율      할인가  원산지\n",
       "3          3       마늘치킨  14000   9호  1800.0  0.2  11200.0  NaN\n",
       "2          2       간장치킨  14000   9호  1600.0  0.2  11200.0  NaN\n",
       "5          5        닭강정  15000  12호  1500.0  0.2  12000.0  브라질\n",
       "1          1     승일양념치킨  13000  10호  1400.0  0.2  10400.0  NaN\n",
       "4          4         파닭  14000  11호  1300.0  0.2  11200.0  브라질\n",
       "6          6   양념반후라이드반  13000  10호  1300.0  0.2  10400.0  NaN\n",
       "7        new  [인기]아이펠치킨  16000  11호  1200.0  0.5   8000.0  국내산\n",
       "0          0     황금후라이드  12000  10호  1000.0  0.2   9600.0  국내산\n",
       "8         10  [베스트]풀잎치킨   9900  10호     NaN  NaN      NaN  NaN"
      ]
     },
     "execution_count": 10,
     "metadata": {},
     "output_type": "execute_result"
    }
   ],
   "source": [
    "# Q. 다음 df 변수의 데이터를 높은 칼로리 순으로 정렬해주세요.\n",
    "df = pd.read_csv('new_modudak.csv')\n",
    "df.sort_values(\"칼로리\", ascending=False)"
   ]
  },
  {
   "cell_type": "markdown",
   "metadata": {},
   "source": [
    "### 자료형 변환"
   ]
  },
  {
   "cell_type": "code",
   "execution_count": 17,
   "metadata": {},
   "outputs": [
    {
     "data": {
      "text/plain": [
       "0.97182531580755"
      ]
     },
     "execution_count": 17,
     "metadata": {},
     "output_type": "execute_result"
    }
   ],
   "source": [
    "# Q. 다음 df 변수의 데이터의 '호수' 칼럼 값들의 표준편차를 구하세요.\n",
    "df = pd.read_csv('new_modudak.csv')\n",
    "df[\"호수\"] = df[\"호수\"].str.replace(\"호\", \"\").astype(\"int\")\n",
    "df[\"호수\"].std()"
   ]
  },
  {
   "cell_type": "markdown",
   "metadata": {},
   "source": [
    "### 데이터 탐색"
   ]
  },
  {
   "cell_type": "code",
   "execution_count": 22,
   "metadata": {},
   "outputs": [
    {
     "name": "stdout",
     "output_type": "stream",
     "text": [
      "14000.0\n",
      "4\n"
     ]
    }
   ],
   "source": [
    "# Q. 다음 df 변수의 데이터에서 '가격'의 3분위 수(75%)를 구하고,\n",
    "# '호수'의 종류 수를 구하세요.\n",
    "df = pd.read_csv('new_modudak.csv')\n",
    "print(df[\"가격\"].describe()[\"75%\"])\n",
    "print(df[\"호수\"].nunique())"
   ]
  },
  {
   "cell_type": "markdown",
   "metadata": {},
   "source": [
    "### 내장함수"
   ]
  },
  {
   "cell_type": "code",
   "execution_count": 23,
   "metadata": {},
   "outputs": [
    {
     "data": {
      "text/plain": [
       "Unnamed: 0    9\n",
       "메뉴            9\n",
       "가격            9\n",
       "호수            9\n",
       "칼로리           8\n",
       "할인율           8\n",
       "할인가           8\n",
       "원산지           4\n",
       "dtype: int64"
      ]
     },
     "execution_count": 23,
     "metadata": {},
     "output_type": "execute_result"
    }
   ],
   "source": [
    "# count\n",
    "df = pd.read_csv('new_modudak.csv')\n",
    "df.count()"
   ]
  },
  {
   "cell_type": "code",
   "execution_count": 52,
   "metadata": {},
   "outputs": [
    {
     "data": {
      "text/plain": [
       "0    8\n",
       "1    7\n",
       "2    7\n",
       "3    7\n",
       "4    8\n",
       "5    8\n",
       "6    7\n",
       "7    8\n",
       "8    4\n",
       "dtype: int64"
      ]
     },
     "execution_count": 52,
     "metadata": {},
     "output_type": "execute_result"
    }
   ],
   "source": [
    "# 열방향 count\n",
    "df.count(axis=1)"
   ]
  },
  {
   "cell_type": "code",
   "execution_count": 25,
   "metadata": {},
   "outputs": [
    {
     "data": {
      "text/plain": [
       "9"
      ]
     },
     "execution_count": 25,
     "metadata": {},
     "output_type": "execute_result"
    }
   ],
   "source": [
    "# 사이즈\n",
    "len(df)"
   ]
  },
  {
   "cell_type": "code",
   "execution_count": 26,
   "metadata": {},
   "outputs": [
    {
     "data": {
      "text/plain": [
       "(9, 8)"
      ]
     },
     "execution_count": 26,
     "metadata": {},
     "output_type": "execute_result"
    }
   ],
   "source": [
    "# shape\n",
    "df.shape"
   ]
  },
  {
   "cell_type": "code",
   "execution_count": 27,
   "metadata": {},
   "outputs": [
    {
     "data": {
      "text/plain": [
       "16000"
      ]
     },
     "execution_count": 27,
     "metadata": {},
     "output_type": "execute_result"
    }
   ],
   "source": [
    "# 최댓값\n",
    "df[\"가격\"].max()"
   ]
  },
  {
   "cell_type": "code",
   "execution_count": 28,
   "metadata": {},
   "outputs": [
    {
     "data": {
      "text/plain": [
       "9900"
      ]
     },
     "execution_count": 28,
     "metadata": {},
     "output_type": "execute_result"
    }
   ],
   "source": [
    "# 최솟값\n",
    "df[\"가격\"].min()"
   ]
  },
  {
   "cell_type": "code",
   "execution_count": 29,
   "metadata": {},
   "outputs": [
    {
     "data": {
      "text/plain": [
       "13433.333333333334"
      ]
     },
     "execution_count": 29,
     "metadata": {},
     "output_type": "execute_result"
    }
   ],
   "source": [
    "# 평균\n",
    "df[\"가격\"].mean()"
   ]
  },
  {
   "cell_type": "code",
   "execution_count": 32,
   "metadata": {},
   "outputs": [
    {
     "data": {
      "text/plain": [
       "14000.0"
      ]
     },
     "execution_count": 32,
     "metadata": {},
     "output_type": "execute_result"
    }
   ],
   "source": [
    "# 중앙값\n",
    "df[\"가격\"].median()"
   ]
  },
  {
   "cell_type": "code",
   "execution_count": 33,
   "metadata": {},
   "outputs": [
    {
     "data": {
      "text/plain": [
       "120900"
      ]
     },
     "execution_count": 33,
     "metadata": {},
     "output_type": "execute_result"
    }
   ],
   "source": [
    "# 합계\n",
    "df[\"가격\"].sum()"
   ]
  },
  {
   "cell_type": "code",
   "execution_count": 34,
   "metadata": {},
   "outputs": [
    {
     "data": {
      "text/plain": [
       "1764.936259472279"
      ]
     },
     "execution_count": 34,
     "metadata": {},
     "output_type": "execute_result"
    }
   ],
   "source": [
    "# 표준편차\n",
    "df[\"가격\"].std()"
   ]
  },
  {
   "cell_type": "code",
   "execution_count": 35,
   "metadata": {},
   "outputs": [
    {
     "data": {
      "text/plain": [
       "3115000.0"
      ]
     },
     "execution_count": 35,
     "metadata": {},
     "output_type": "execute_result"
    }
   ],
   "source": [
    "# 분산\n",
    "df[\"가격\"].var()"
   ]
  },
  {
   "cell_type": "code",
   "execution_count": 37,
   "metadata": {},
   "outputs": [
    {
     "data": {
      "text/plain": [
       "count        9.000000\n",
       "mean     13433.333333\n",
       "std       1764.936259\n",
       "min       9900.000000\n",
       "25%      13000.000000\n",
       "50%      14000.000000\n",
       "75%      14000.000000\n",
       "max      16000.000000\n",
       "Name: 가격, dtype: float64"
      ]
     },
     "execution_count": 37,
     "metadata": {},
     "output_type": "execute_result"
    }
   ],
   "source": [
    "# 기초통계\n",
    "df[\"가격\"].describe()"
   ]
  },
  {
   "cell_type": "code",
   "execution_count": 53,
   "metadata": {},
   "outputs": [
    {
     "data": {
      "text/html": [
       "<div>\n",
       "<style scoped>\n",
       "    .dataframe tbody tr th:only-of-type {\n",
       "        vertical-align: middle;\n",
       "    }\n",
       "\n",
       "    .dataframe tbody tr th {\n",
       "        vertical-align: top;\n",
       "    }\n",
       "\n",
       "    .dataframe thead th {\n",
       "        text-align: right;\n",
       "    }\n",
       "</style>\n",
       "<table border=\"1\" class=\"dataframe\">\n",
       "  <thead>\n",
       "    <tr style=\"text-align: right;\">\n",
       "      <th></th>\n",
       "      <th>Unnamed: 0</th>\n",
       "      <th>메뉴</th>\n",
       "      <th>호수</th>\n",
       "      <th>원산지</th>\n",
       "    </tr>\n",
       "  </thead>\n",
       "  <tbody>\n",
       "    <tr>\n",
       "      <th>count</th>\n",
       "      <td>9</td>\n",
       "      <td>9</td>\n",
       "      <td>9</td>\n",
       "      <td>4</td>\n",
       "    </tr>\n",
       "    <tr>\n",
       "      <th>unique</th>\n",
       "      <td>9</td>\n",
       "      <td>9</td>\n",
       "      <td>4</td>\n",
       "      <td>2</td>\n",
       "    </tr>\n",
       "    <tr>\n",
       "      <th>top</th>\n",
       "      <td>0</td>\n",
       "      <td>황금후라이드</td>\n",
       "      <td>10호</td>\n",
       "      <td>국내산</td>\n",
       "    </tr>\n",
       "    <tr>\n",
       "      <th>freq</th>\n",
       "      <td>1</td>\n",
       "      <td>1</td>\n",
       "      <td>4</td>\n",
       "      <td>2</td>\n",
       "    </tr>\n",
       "  </tbody>\n",
       "</table>\n",
       "</div>"
      ],
      "text/plain": [
       "       Unnamed: 0      메뉴   호수  원산지\n",
       "count           9       9    9    4\n",
       "unique          9       9    4    2\n",
       "top             0  황금후라이드  10호  국내산\n",
       "freq            1       1    4    2"
      ]
     },
     "execution_count": 53,
     "metadata": {},
     "output_type": "execute_result"
    }
   ],
   "source": [
    "# 문자 기초통계\n",
    "df.describe(include=\"O\")"
   ]
  },
  {
   "cell_type": "code",
   "execution_count": 38,
   "metadata": {},
   "outputs": [
    {
     "data": {
      "text/plain": [
       "13000.0"
      ]
     },
     "execution_count": 38,
     "metadata": {},
     "output_type": "execute_result"
    }
   ],
   "source": [
    "# 사분위수 1/4\n",
    "df[\"가격\"].quantile(.25)"
   ]
  },
  {
   "cell_type": "code",
   "execution_count": 39,
   "metadata": {},
   "outputs": [
    {
     "data": {
      "text/plain": [
       "14000.0"
      ]
     },
     "execution_count": 39,
     "metadata": {},
     "output_type": "execute_result"
    }
   ],
   "source": [
    "# 사분위수 3/4\n",
    "df[\"가격\"].quantile(.75)"
   ]
  },
  {
   "cell_type": "code",
   "execution_count": 40,
   "metadata": {},
   "outputs": [
    {
     "data": {
      "text/plain": [
       "0    12000\n",
       "8     9900\n",
       "Name: 가격, dtype: int64"
      ]
     },
     "execution_count": 40,
     "metadata": {},
     "output_type": "execute_result"
    }
   ],
   "source": [
    "cond = df[\"가격\"].quantile(.25) > df[\"가격\"]\n",
    "df[\"가격\"][cond]"
   ]
  },
  {
   "cell_type": "code",
   "execution_count": 42,
   "metadata": {},
   "outputs": [
    {
     "data": {
      "text/plain": [
       "5    15000\n",
       "7    16000\n",
       "Name: 가격, dtype: int64"
      ]
     },
     "execution_count": 42,
     "metadata": {},
     "output_type": "execute_result"
    }
   ],
   "source": [
    "cond = df[\"가격\"].quantile(.75) < df[\"가격\"]\n",
    "df[\"가격\"][cond]"
   ]
  },
  {
   "cell_type": "code",
   "execution_count": 49,
   "metadata": {},
   "outputs": [
    {
     "data": {
      "text/plain": [
       "'국내산'"
      ]
     },
     "execution_count": 49,
     "metadata": {},
     "output_type": "execute_result"
    }
   ],
   "source": [
    "# 최빈값\n",
    "df[\"원산지\"].mode()[0]"
   ]
  },
  {
   "cell_type": "code",
   "execution_count": 50,
   "metadata": {},
   "outputs": [
    {
     "data": {
      "text/html": [
       "<div>\n",
       "<style scoped>\n",
       "    .dataframe tbody tr th:only-of-type {\n",
       "        vertical-align: middle;\n",
       "    }\n",
       "\n",
       "    .dataframe tbody tr th {\n",
       "        vertical-align: top;\n",
       "    }\n",
       "\n",
       "    .dataframe thead th {\n",
       "        text-align: right;\n",
       "    }\n",
       "</style>\n",
       "<table border=\"1\" class=\"dataframe\">\n",
       "  <thead>\n",
       "    <tr style=\"text-align: right;\">\n",
       "      <th></th>\n",
       "      <th>0</th>\n",
       "      <th>1</th>\n",
       "      <th>2</th>\n",
       "      <th>3</th>\n",
       "      <th>4</th>\n",
       "      <th>5</th>\n",
       "      <th>6</th>\n",
       "      <th>7</th>\n",
       "      <th>8</th>\n",
       "    </tr>\n",
       "  </thead>\n",
       "  <tbody>\n",
       "    <tr>\n",
       "      <th>Unnamed: 0</th>\n",
       "      <td>0</td>\n",
       "      <td>1</td>\n",
       "      <td>2</td>\n",
       "      <td>3</td>\n",
       "      <td>4</td>\n",
       "      <td>5</td>\n",
       "      <td>6</td>\n",
       "      <td>new</td>\n",
       "      <td>10</td>\n",
       "    </tr>\n",
       "    <tr>\n",
       "      <th>메뉴</th>\n",
       "      <td>황금후라이드</td>\n",
       "      <td>승일양념치킨</td>\n",
       "      <td>간장치킨</td>\n",
       "      <td>마늘치킨</td>\n",
       "      <td>파닭</td>\n",
       "      <td>닭강정</td>\n",
       "      <td>양념반후라이드반</td>\n",
       "      <td>[인기]아이펠치킨</td>\n",
       "      <td>[베스트]풀잎치킨</td>\n",
       "    </tr>\n",
       "    <tr>\n",
       "      <th>가격</th>\n",
       "      <td>12000</td>\n",
       "      <td>13000</td>\n",
       "      <td>14000</td>\n",
       "      <td>14000</td>\n",
       "      <td>14000</td>\n",
       "      <td>15000</td>\n",
       "      <td>13000</td>\n",
       "      <td>16000</td>\n",
       "      <td>9900</td>\n",
       "    </tr>\n",
       "    <tr>\n",
       "      <th>호수</th>\n",
       "      <td>10호</td>\n",
       "      <td>10호</td>\n",
       "      <td>9호</td>\n",
       "      <td>9호</td>\n",
       "      <td>11호</td>\n",
       "      <td>12호</td>\n",
       "      <td>10호</td>\n",
       "      <td>11호</td>\n",
       "      <td>10호</td>\n",
       "    </tr>\n",
       "    <tr>\n",
       "      <th>칼로리</th>\n",
       "      <td>1000.0</td>\n",
       "      <td>1400.0</td>\n",
       "      <td>1600.0</td>\n",
       "      <td>1800.0</td>\n",
       "      <td>1300.0</td>\n",
       "      <td>1500.0</td>\n",
       "      <td>1300.0</td>\n",
       "      <td>1200.0</td>\n",
       "      <td>NaN</td>\n",
       "    </tr>\n",
       "    <tr>\n",
       "      <th>할인율</th>\n",
       "      <td>0.2</td>\n",
       "      <td>0.2</td>\n",
       "      <td>0.2</td>\n",
       "      <td>0.2</td>\n",
       "      <td>0.2</td>\n",
       "      <td>0.2</td>\n",
       "      <td>0.2</td>\n",
       "      <td>0.5</td>\n",
       "      <td>NaN</td>\n",
       "    </tr>\n",
       "    <tr>\n",
       "      <th>할인가</th>\n",
       "      <td>9600.0</td>\n",
       "      <td>10400.0</td>\n",
       "      <td>11200.0</td>\n",
       "      <td>11200.0</td>\n",
       "      <td>11200.0</td>\n",
       "      <td>12000.0</td>\n",
       "      <td>10400.0</td>\n",
       "      <td>8000.0</td>\n",
       "      <td>NaN</td>\n",
       "    </tr>\n",
       "    <tr>\n",
       "      <th>원산지</th>\n",
       "      <td>국내산</td>\n",
       "      <td>NaN</td>\n",
       "      <td>NaN</td>\n",
       "      <td>NaN</td>\n",
       "      <td>브라질</td>\n",
       "      <td>브라질</td>\n",
       "      <td>NaN</td>\n",
       "      <td>국내산</td>\n",
       "      <td>NaN</td>\n",
       "    </tr>\n",
       "  </tbody>\n",
       "</table>\n",
       "</div>"
      ],
      "text/plain": [
       "                 0        1        2        3        4        5         6  \\\n",
       "Unnamed: 0       0        1        2        3        4        5         6   \n",
       "메뉴          황금후라이드   승일양념치킨     간장치킨     마늘치킨       파닭      닭강정  양념반후라이드반   \n",
       "가격           12000    13000    14000    14000    14000    15000     13000   \n",
       "호수             10호      10호       9호       9호      11호      12호       10호   \n",
       "칼로리         1000.0   1400.0   1600.0   1800.0   1300.0   1500.0    1300.0   \n",
       "할인율            0.2      0.2      0.2      0.2      0.2      0.2       0.2   \n",
       "할인가         9600.0  10400.0  11200.0  11200.0  11200.0  12000.0   10400.0   \n",
       "원산지            국내산      NaN      NaN      NaN      브라질      브라질       NaN   \n",
       "\n",
       "                    7          8  \n",
       "Unnamed: 0        new         10  \n",
       "메뉴          [인기]아이펠치킨  [베스트]풀잎치킨  \n",
       "가격              16000       9900  \n",
       "호수                11호        10호  \n",
       "칼로리            1200.0        NaN  \n",
       "할인율               0.5        NaN  \n",
       "할인가            8000.0        NaN  \n",
       "원산지               국내산        NaN  "
      ]
     },
     "execution_count": 50,
     "metadata": {},
     "output_type": "execute_result"
    }
   ],
   "source": [
    "# 전치\n",
    "df.T"
   ]
  }
 ],
 "metadata": {
  "kernelspec": {
   "display_name": "aiffel-research",
   "language": "python",
   "name": "python3"
  },
  "language_info": {
   "codemirror_mode": {
    "name": "ipython",
    "version": 3
   },
   "file_extension": ".py",
   "mimetype": "text/x-python",
   "name": "python",
   "nbconvert_exporter": "python",
   "pygments_lexer": "ipython3",
   "version": "3.12.3"
  }
 },
 "nbformat": 4,
 "nbformat_minor": 2
}
