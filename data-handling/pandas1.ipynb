{
 "cells": [
  {
   "cell_type": "markdown",
   "metadata": {},
   "source": [
    "### 라이브러리 불러오기"
   ]
  },
  {
   "cell_type": "code",
   "execution_count": 3,
   "metadata": {},
   "outputs": [],
   "source": [
    "import pandas as pd"
   ]
  },
  {
   "cell_type": "markdown",
   "metadata": {},
   "source": [
    "### 데이터프레임, 시리즈"
   ]
  },
  {
   "cell_type": "code",
   "execution_count": 4,
   "metadata": {},
   "outputs": [
    {
     "data": {
      "text/html": [
       "<div>\n",
       "<style scoped>\n",
       "    .dataframe tbody tr th:only-of-type {\n",
       "        vertical-align: middle;\n",
       "    }\n",
       "\n",
       "    .dataframe tbody tr th {\n",
       "        vertical-align: top;\n",
       "    }\n",
       "\n",
       "    .dataframe thead th {\n",
       "        text-align: right;\n",
       "    }\n",
       "</style>\n",
       "<table border=\"1\" class=\"dataframe\">\n",
       "  <thead>\n",
       "    <tr style=\"text-align: right;\">\n",
       "      <th></th>\n",
       "      <th>메뉴</th>\n",
       "      <th>가격</th>\n",
       "    </tr>\n",
       "  </thead>\n",
       "  <tbody>\n",
       "    <tr>\n",
       "      <th>0</th>\n",
       "      <td>후라이드</td>\n",
       "      <td>12000</td>\n",
       "    </tr>\n",
       "    <tr>\n",
       "      <th>1</th>\n",
       "      <td>양념치킨</td>\n",
       "      <td>13000</td>\n",
       "    </tr>\n",
       "    <tr>\n",
       "      <th>2</th>\n",
       "      <td>양반후반</td>\n",
       "      <td>13000</td>\n",
       "    </tr>\n",
       "  </tbody>\n",
       "</table>\n",
       "</div>"
      ],
      "text/plain": [
       "     메뉴     가격\n",
       "0  후라이드  12000\n",
       "1  양념치킨  13000\n",
       "2  양반후반  13000"
      ]
     },
     "execution_count": 4,
     "metadata": {},
     "output_type": "execute_result"
    }
   ],
   "source": [
    "# Q. 다음의 시리즈 menu, price를 합쳐서 데이터프레임을 만들어보세요.\n",
    "menu = pd.Series(['후라이드', '양념치킨', '양반후반'], name=\"메뉴\")\n",
    "price = pd.Series([12000, 13000, 13000], name='가격')\n",
    "df = pd.DataFrame({\n",
    "    \"메뉴\": menu,\n",
    "    \"가격\": price\n",
    "})\n",
    "df"
   ]
  },
  {
   "cell_type": "markdown",
   "metadata": {},
   "source": [
    "### 데이터 불러오기, 저장"
   ]
  },
  {
   "cell_type": "code",
   "execution_count": 5,
   "metadata": {},
   "outputs": [
    {
     "name": "stdout",
     "output_type": "stream",
     "text": [
      "<class 'pandas.core.frame.DataFrame'>\n"
     ]
    }
   ],
   "source": [
    "# Q. csv 파일을 저장한 변수의 type은 무엇일까요? 다음 df 변수의 타입을 확인해보세요.\n",
    "data = {\n",
    "    \"메뉴\":['후라이드', '양념치킨', '간장치킨', '마늘치킨', '파닭', '닭강정', '양반후반'],\n",
    "    \"가격\":[12000, 13000, 14000, 14000, 14000, 15000, 13000],\n",
    "    \"호수\":['10호', '10호', '9호', '9호', '11호', '12호', '10호'],\n",
    "    \"칼로리\":[1000, 1400, 1600, 1800, 1300, 1500, 1300],\n",
    "}\n",
    "data = pd.DataFrame(data)\n",
    "data.to_csv('modudak.csv', index=False)\n",
    "df = pd.read_csv('modudak.csv')\n",
    "\n",
    "print(type(df))"
   ]
  },
  {
   "cell_type": "markdown",
   "metadata": {},
   "source": [
    "### 데이터 선택하기"
   ]
  },
  {
   "cell_type": "code",
   "execution_count": 7,
   "metadata": {},
   "outputs": [
    {
     "data": {
      "text/plain": [
       "0    후라이드\n",
       "6    양반후반\n",
       "Name: 메뉴, dtype: object"
      ]
     },
     "execution_count": 7,
     "metadata": {},
     "output_type": "execute_result"
    }
   ],
   "source": [
    "# Q. df 변수의 메뉴 중 칼로리가 1300 이하이고 가격도 13000 이하인 메뉴는 무엇인가요?\n",
    "# 영상에서 배운 데이터 선택 방법을 사용해서 찾아주세요.\n",
    "cond1 = df[\"칼로리\"] <= 1300\n",
    "cond2 = df[\"가격\"] <= 13000\n",
    "df[cond1 & cond2][\"메뉴\"]"
   ]
  },
  {
   "cell_type": "markdown",
   "metadata": {},
   "source": [
    "### 인덱싱/슬라이싱"
   ]
  },
  {
   "cell_type": "code",
   "execution_count": 12,
   "metadata": {},
   "outputs": [
    {
     "name": "stdout",
     "output_type": "stream",
     "text": [
      "     메뉴     가격   호수   칼로리\n",
      "0  후라이드  12000  10호  1000\n",
      "1  양념치킨  13000  10호  1400\n",
      "2  간장치킨  14000   9호  1600\n",
      "3  마늘치킨  14000   9호  1800\n",
      "4    파닭  14000  11호  1300\n",
      "5   닭강정  15000  12호  1500\n",
      "6  양반후반  13000  10호  1300\n"
     ]
    },
    {
     "data": {
      "text/html": [
       "<div>\n",
       "<style scoped>\n",
       "    .dataframe tbody tr th:only-of-type {\n",
       "        vertical-align: middle;\n",
       "    }\n",
       "\n",
       "    .dataframe tbody tr th {\n",
       "        vertical-align: top;\n",
       "    }\n",
       "\n",
       "    .dataframe thead th {\n",
       "        text-align: right;\n",
       "    }\n",
       "</style>\n",
       "<table border=\"1\" class=\"dataframe\">\n",
       "  <thead>\n",
       "    <tr style=\"text-align: right;\">\n",
       "      <th></th>\n",
       "      <th>메뉴</th>\n",
       "      <th>가격</th>\n",
       "      <th>호수</th>\n",
       "      <th>칼로리</th>\n",
       "    </tr>\n",
       "  </thead>\n",
       "  <tbody>\n",
       "    <tr>\n",
       "      <th>1</th>\n",
       "      <td>양념치킨</td>\n",
       "      <td>13000</td>\n",
       "      <td>10호</td>\n",
       "      <td>1400</td>\n",
       "    </tr>\n",
       "    <tr>\n",
       "      <th>2</th>\n",
       "      <td>간장치킨</td>\n",
       "      <td>14000</td>\n",
       "      <td>9호</td>\n",
       "      <td>1600</td>\n",
       "    </tr>\n",
       "  </tbody>\n",
       "</table>\n",
       "</div>"
      ],
      "text/plain": [
       "     메뉴     가격   호수   칼로리\n",
       "1  양념치킨  13000  10호  1400\n",
       "2  간장치킨  14000   9호  1600"
      ]
     },
     "execution_count": 12,
     "metadata": {},
     "output_type": "execute_result"
    }
   ],
   "source": [
    "# Q. loc 혹은 iloc 을 사용해서 df 변수의 데이터 중 양념치킨과 간장치킨의 데이터를 뽑아주세요.\n",
    "print(df)\n",
    "index = df[\"메뉴\"].isin([\"양념치킨\", \"간장치킨\"])\n",
    "df.loc[index]"
   ]
  },
  {
   "cell_type": "markdown",
   "metadata": {},
   "source": [
    "### 인덱스 다루기"
   ]
  },
  {
   "cell_type": "code",
   "execution_count": 15,
   "metadata": {},
   "outputs": [
    {
     "data": {
      "text/plain": [
       "14000"
      ]
     },
     "execution_count": 15,
     "metadata": {},
     "output_type": "execute_result"
    }
   ],
   "source": [
    "# Q. df 변수의 데이터에서 '메뉴' 칼럼을 index로 설정하고 간장치킨의 가격을 뽑아주세요.\n",
    "# loc 혹은 iloc을 활용해주세요.\n",
    "df = pd.read_csv('modudak.csv')\n",
    "df = df.set_index(keys=\"메뉴\")\n",
    "df.loc[\"간장치킨\", \"가격\"]"
   ]
  },
  {
   "cell_type": "code",
   "execution_count": 16,
   "metadata": {},
   "outputs": [
    {
     "data": {
      "text/html": [
       "<div>\n",
       "<style scoped>\n",
       "    .dataframe tbody tr th:only-of-type {\n",
       "        vertical-align: middle;\n",
       "    }\n",
       "\n",
       "    .dataframe tbody tr th {\n",
       "        vertical-align: top;\n",
       "    }\n",
       "\n",
       "    .dataframe thead th {\n",
       "        text-align: right;\n",
       "    }\n",
       "</style>\n",
       "<table border=\"1\" class=\"dataframe\">\n",
       "  <thead>\n",
       "    <tr style=\"text-align: right;\">\n",
       "      <th></th>\n",
       "      <th>메뉴</th>\n",
       "      <th>가격</th>\n",
       "      <th>호수</th>\n",
       "      <th>칼로리</th>\n",
       "    </tr>\n",
       "  </thead>\n",
       "  <tbody>\n",
       "    <tr>\n",
       "      <th>0</th>\n",
       "      <td>후라이드</td>\n",
       "      <td>12000</td>\n",
       "      <td>10호</td>\n",
       "      <td>1000</td>\n",
       "    </tr>\n",
       "    <tr>\n",
       "      <th>1</th>\n",
       "      <td>양념치킨</td>\n",
       "      <td>13000</td>\n",
       "      <td>10호</td>\n",
       "      <td>1400</td>\n",
       "    </tr>\n",
       "    <tr>\n",
       "      <th>2</th>\n",
       "      <td>간장치킨</td>\n",
       "      <td>14000</td>\n",
       "      <td>9호</td>\n",
       "      <td>1600</td>\n",
       "    </tr>\n",
       "    <tr>\n",
       "      <th>3</th>\n",
       "      <td>마늘치킨</td>\n",
       "      <td>14000</td>\n",
       "      <td>9호</td>\n",
       "      <td>1800</td>\n",
       "    </tr>\n",
       "    <tr>\n",
       "      <th>4</th>\n",
       "      <td>파닭</td>\n",
       "      <td>14000</td>\n",
       "      <td>11호</td>\n",
       "      <td>1300</td>\n",
       "    </tr>\n",
       "    <tr>\n",
       "      <th>5</th>\n",
       "      <td>닭강정</td>\n",
       "      <td>15000</td>\n",
       "      <td>12호</td>\n",
       "      <td>1500</td>\n",
       "    </tr>\n",
       "    <tr>\n",
       "      <th>6</th>\n",
       "      <td>양반후반</td>\n",
       "      <td>13000</td>\n",
       "      <td>10호</td>\n",
       "      <td>1300</td>\n",
       "    </tr>\n",
       "  </tbody>\n",
       "</table>\n",
       "</div>"
      ],
      "text/plain": [
       "     메뉴     가격   호수   칼로리\n",
       "0  후라이드  12000  10호  1000\n",
       "1  양념치킨  13000  10호  1400\n",
       "2  간장치킨  14000   9호  1600\n",
       "3  마늘치킨  14000   9호  1800\n",
       "4    파닭  14000  11호  1300\n",
       "5   닭강정  15000  12호  1500\n",
       "6  양반후반  13000  10호  1300"
      ]
     },
     "execution_count": 16,
     "metadata": {},
     "output_type": "execute_result"
    }
   ],
   "source": [
    "# Q8. df 변수 데이터의 index를 다시 reset 해주세요.\n",
    "df.reset_index()"
   ]
  },
  {
   "cell_type": "markdown",
   "metadata": {},
   "source": [
    "### 행과 열 추가"
   ]
  },
  {
   "cell_type": "code",
   "execution_count": 17,
   "metadata": {},
   "outputs": [
    {
     "data": {
      "text/html": [
       "<div>\n",
       "<style scoped>\n",
       "    .dataframe tbody tr th:only-of-type {\n",
       "        vertical-align: middle;\n",
       "    }\n",
       "\n",
       "    .dataframe tbody tr th {\n",
       "        vertical-align: top;\n",
       "    }\n",
       "\n",
       "    .dataframe thead th {\n",
       "        text-align: right;\n",
       "    }\n",
       "</style>\n",
       "<table border=\"1\" class=\"dataframe\">\n",
       "  <thead>\n",
       "    <tr style=\"text-align: right;\">\n",
       "      <th></th>\n",
       "      <th>메뉴</th>\n",
       "      <th>가격</th>\n",
       "      <th>호수</th>\n",
       "      <th>칼로리</th>\n",
       "    </tr>\n",
       "  </thead>\n",
       "  <tbody>\n",
       "    <tr>\n",
       "      <th>0</th>\n",
       "      <td>후라이드</td>\n",
       "      <td>8400.0</td>\n",
       "      <td>10호</td>\n",
       "      <td>1000</td>\n",
       "    </tr>\n",
       "    <tr>\n",
       "      <th>1</th>\n",
       "      <td>양념치킨</td>\n",
       "      <td>9100.0</td>\n",
       "      <td>10호</td>\n",
       "      <td>1400</td>\n",
       "    </tr>\n",
       "    <tr>\n",
       "      <th>2</th>\n",
       "      <td>간장치킨</td>\n",
       "      <td>9800.0</td>\n",
       "      <td>9호</td>\n",
       "      <td>1600</td>\n",
       "    </tr>\n",
       "    <tr>\n",
       "      <th>3</th>\n",
       "      <td>마늘치킨</td>\n",
       "      <td>9800.0</td>\n",
       "      <td>9호</td>\n",
       "      <td>1800</td>\n",
       "    </tr>\n",
       "    <tr>\n",
       "      <th>4</th>\n",
       "      <td>파닭</td>\n",
       "      <td>9800.0</td>\n",
       "      <td>11호</td>\n",
       "      <td>1300</td>\n",
       "    </tr>\n",
       "    <tr>\n",
       "      <th>5</th>\n",
       "      <td>닭강정</td>\n",
       "      <td>10500.0</td>\n",
       "      <td>12호</td>\n",
       "      <td>1500</td>\n",
       "    </tr>\n",
       "    <tr>\n",
       "      <th>6</th>\n",
       "      <td>양반후반</td>\n",
       "      <td>9100.0</td>\n",
       "      <td>10호</td>\n",
       "      <td>1300</td>\n",
       "    </tr>\n",
       "  </tbody>\n",
       "</table>\n",
       "</div>"
      ],
      "text/plain": [
       "     메뉴       가격   호수   칼로리\n",
       "0  후라이드   8400.0  10호  1000\n",
       "1  양념치킨   9100.0  10호  1400\n",
       "2  간장치킨   9800.0   9호  1600\n",
       "3  마늘치킨   9800.0   9호  1800\n",
       "4    파닭   9800.0  11호  1300\n",
       "5   닭강정  10500.0  12호  1500\n",
       "6  양반후반   9100.0  10호  1300"
      ]
     },
     "execution_count": 17,
     "metadata": {},
     "output_type": "execute_result"
    }
   ],
   "source": [
    "# Q. df 변수 데이터의 모든 메뉴를 30% 할인된 가격으로 바꿔주세요.\n",
    "df = pd.read_csv('modudak.csv')\n",
    "discount_rate = 0.3\n",
    "df[\"가격\"] = df[\"가격\"] * (1 - discount_rate)\n",
    "df"
   ]
  },
  {
   "cell_type": "markdown",
   "metadata": {},
   "source": [
    "### 값 변경"
   ]
  },
  {
   "cell_type": "code",
   "execution_count": 19,
   "metadata": {},
   "outputs": [
    {
     "data": {
      "text/html": [
       "<div>\n",
       "<style scoped>\n",
       "    .dataframe tbody tr th:only-of-type {\n",
       "        vertical-align: middle;\n",
       "    }\n",
       "\n",
       "    .dataframe tbody tr th {\n",
       "        vertical-align: top;\n",
       "    }\n",
       "\n",
       "    .dataframe thead th {\n",
       "        text-align: right;\n",
       "    }\n",
       "</style>\n",
       "<table border=\"1\" class=\"dataframe\">\n",
       "  <thead>\n",
       "    <tr style=\"text-align: right;\">\n",
       "      <th></th>\n",
       "      <th>메뉴</th>\n",
       "      <th>가격</th>\n",
       "      <th>호수</th>\n",
       "      <th>칼로리</th>\n",
       "    </tr>\n",
       "  </thead>\n",
       "  <tbody>\n",
       "    <tr>\n",
       "      <th>0</th>\n",
       "      <td>후라이드</td>\n",
       "      <td>8400.0</td>\n",
       "      <td>10호</td>\n",
       "      <td>1000</td>\n",
       "    </tr>\n",
       "    <tr>\n",
       "      <th>1</th>\n",
       "      <td>양념치킨</td>\n",
       "      <td>9100.0</td>\n",
       "      <td>10호</td>\n",
       "      <td>1400</td>\n",
       "    </tr>\n",
       "    <tr>\n",
       "      <th>2</th>\n",
       "      <td>간장치킨</td>\n",
       "      <td>9800.0</td>\n",
       "      <td>9호</td>\n",
       "      <td>1600</td>\n",
       "    </tr>\n",
       "    <tr>\n",
       "      <th>3</th>\n",
       "      <td>마늘치킨</td>\n",
       "      <td>9800.0</td>\n",
       "      <td>9호</td>\n",
       "      <td>1800</td>\n",
       "    </tr>\n",
       "    <tr>\n",
       "      <th>4</th>\n",
       "      <td>에너르기파닭</td>\n",
       "      <td>9800.0</td>\n",
       "      <td>11호</td>\n",
       "      <td>1300</td>\n",
       "    </tr>\n",
       "    <tr>\n",
       "      <th>5</th>\n",
       "      <td>닭강정</td>\n",
       "      <td>10500.0</td>\n",
       "      <td>12호</td>\n",
       "      <td>1500</td>\n",
       "    </tr>\n",
       "    <tr>\n",
       "      <th>6</th>\n",
       "      <td>양반후반</td>\n",
       "      <td>9100.0</td>\n",
       "      <td>10호</td>\n",
       "      <td>1300</td>\n",
       "    </tr>\n",
       "  </tbody>\n",
       "</table>\n",
       "</div>"
      ],
      "text/plain": [
       "       메뉴       가격   호수   칼로리\n",
       "0    후라이드   8400.0  10호  1000\n",
       "1    양념치킨   9100.0  10호  1400\n",
       "2    간장치킨   9800.0   9호  1600\n",
       "3    마늘치킨   9800.0   9호  1800\n",
       "4  에너르기파닭   9800.0  11호  1300\n",
       "5     닭강정  10500.0  12호  1500\n",
       "6    양반후반   9100.0  10호  1300"
      ]
     },
     "execution_count": 19,
     "metadata": {},
     "output_type": "execute_result"
    }
   ],
   "source": [
    "# Q. df 변수 데이터에서 '파닭'의 이름을 '에너르기파닭'으로 바꿔주세요.\n",
    "replaced_menu = df[\"메뉴\"].replace(\"파닭\", \"에너르기파닭\")\n",
    "df[\"메뉴\"] = replaced_menu\n",
    "df"
   ]
  }
 ],
 "metadata": {
  "kernelspec": {
   "display_name": "aiffel-research",
   "language": "python",
   "name": "python3"
  },
  "language_info": {
   "codemirror_mode": {
    "name": "ipython",
    "version": 3
   },
   "file_extension": ".py",
   "mimetype": "text/x-python",
   "name": "python",
   "nbconvert_exporter": "python",
   "pygments_lexer": "ipython3",
   "version": "3.12.3"
  }
 },
 "nbformat": 4,
 "nbformat_minor": 2
}
