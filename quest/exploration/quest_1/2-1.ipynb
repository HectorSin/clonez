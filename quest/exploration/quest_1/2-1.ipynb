{
 "cells": [
  {
   "cell_type": "markdown",
   "id": "ecfc21e7",
   "metadata": {},
   "source": [
    "# 당뇨병 수치"
   ]
  },
  {
   "cell_type": "markdown",
   "id": "d62adda7",
   "metadata": {},
   "source": [
    "## 1. 데이터 가져오기"
   ]
  },
  {
   "cell_type": "code",
   "execution_count": 31,
   "id": "07f93da8",
   "metadata": {},
   "outputs": [
    {
     "data": {
      "text/plain": [
       "['DESCR',\n",
       " 'data',\n",
       " 'data_filename',\n",
       " 'data_module',\n",
       " 'feature_names',\n",
       " 'frame',\n",
       " 'target',\n",
       " 'target_filename']"
      ]
     },
     "execution_count": 31,
     "metadata": {},
     "output_type": "execute_result"
    }
   ],
   "source": [
    "from sklearn.datasets import load_diabetes\n",
    "\n",
    "data = load_diabetes()\n",
    "\n",
    "dir(data)"
   ]
  },
  {
   "cell_type": "code",
   "execution_count": 32,
   "id": "189e7e0d",
   "metadata": {},
   "outputs": [
    {
     "data": {
      "text/plain": [
       "['age', 'sex', 'bmi', 'bp', 's1', 's2', 's3', 's4', 's5', 's6']"
      ]
     },
     "execution_count": 32,
     "metadata": {},
     "output_type": "execute_result"
    }
   ],
   "source": [
    "data.feature_names"
   ]
  },
  {
   "cell_type": "code",
   "execution_count": 33,
   "id": "4f6d2833",
   "metadata": {},
   "outputs": [
    {
     "data": {
      "text/plain": [
       "array([151.,  75., 141., 206., 135.,  97., 138.,  63., 110., 310.])"
      ]
     },
     "execution_count": 33,
     "metadata": {},
     "output_type": "execute_result"
    }
   ],
   "source": [
    "data.target.shape\n",
    "data.target[:10]"
   ]
  },
  {
   "cell_type": "code",
   "execution_count": 34,
   "id": "e45bdaf7",
   "metadata": {},
   "outputs": [
    {
     "data": {
      "text/html": [
       "<div>\n",
       "<style scoped>\n",
       "    .dataframe tbody tr th:only-of-type {\n",
       "        vertical-align: middle;\n",
       "    }\n",
       "\n",
       "    .dataframe tbody tr th {\n",
       "        vertical-align: top;\n",
       "    }\n",
       "\n",
       "    .dataframe thead th {\n",
       "        text-align: right;\n",
       "    }\n",
       "</style>\n",
       "<table border=\"1\" class=\"dataframe\">\n",
       "  <thead>\n",
       "    <tr style=\"text-align: right;\">\n",
       "      <th></th>\n",
       "      <th>age</th>\n",
       "      <th>sex</th>\n",
       "      <th>bmi</th>\n",
       "      <th>bp</th>\n",
       "      <th>s1</th>\n",
       "      <th>s2</th>\n",
       "      <th>s3</th>\n",
       "      <th>s4</th>\n",
       "      <th>s5</th>\n",
       "      <th>s6</th>\n",
       "    </tr>\n",
       "  </thead>\n",
       "  <tbody>\n",
       "    <tr>\n",
       "      <th>0</th>\n",
       "      <td>0.038076</td>\n",
       "      <td>0.050680</td>\n",
       "      <td>0.061696</td>\n",
       "      <td>0.021872</td>\n",
       "      <td>-0.044223</td>\n",
       "      <td>-0.034821</td>\n",
       "      <td>-0.043401</td>\n",
       "      <td>-0.002592</td>\n",
       "      <td>0.019908</td>\n",
       "      <td>-0.017646</td>\n",
       "    </tr>\n",
       "    <tr>\n",
       "      <th>1</th>\n",
       "      <td>-0.001882</td>\n",
       "      <td>-0.044642</td>\n",
       "      <td>-0.051474</td>\n",
       "      <td>-0.026328</td>\n",
       "      <td>-0.008449</td>\n",
       "      <td>-0.019163</td>\n",
       "      <td>0.074412</td>\n",
       "      <td>-0.039493</td>\n",
       "      <td>-0.068330</td>\n",
       "      <td>-0.092204</td>\n",
       "    </tr>\n",
       "    <tr>\n",
       "      <th>2</th>\n",
       "      <td>0.085299</td>\n",
       "      <td>0.050680</td>\n",
       "      <td>0.044451</td>\n",
       "      <td>-0.005671</td>\n",
       "      <td>-0.045599</td>\n",
       "      <td>-0.034194</td>\n",
       "      <td>-0.032356</td>\n",
       "      <td>-0.002592</td>\n",
       "      <td>0.002864</td>\n",
       "      <td>-0.025930</td>\n",
       "    </tr>\n",
       "    <tr>\n",
       "      <th>3</th>\n",
       "      <td>-0.089063</td>\n",
       "      <td>-0.044642</td>\n",
       "      <td>-0.011595</td>\n",
       "      <td>-0.036656</td>\n",
       "      <td>0.012191</td>\n",
       "      <td>0.024991</td>\n",
       "      <td>-0.036038</td>\n",
       "      <td>0.034309</td>\n",
       "      <td>0.022692</td>\n",
       "      <td>-0.009362</td>\n",
       "    </tr>\n",
       "    <tr>\n",
       "      <th>4</th>\n",
       "      <td>0.005383</td>\n",
       "      <td>-0.044642</td>\n",
       "      <td>-0.036385</td>\n",
       "      <td>0.021872</td>\n",
       "      <td>0.003935</td>\n",
       "      <td>0.015596</td>\n",
       "      <td>0.008142</td>\n",
       "      <td>-0.002592</td>\n",
       "      <td>-0.031991</td>\n",
       "      <td>-0.046641</td>\n",
       "    </tr>\n",
       "  </tbody>\n",
       "</table>\n",
       "</div>"
      ],
      "text/plain": [
       "        age       sex       bmi        bp        s1        s2        s3  \\\n",
       "0  0.038076  0.050680  0.061696  0.021872 -0.044223 -0.034821 -0.043401   \n",
       "1 -0.001882 -0.044642 -0.051474 -0.026328 -0.008449 -0.019163  0.074412   \n",
       "2  0.085299  0.050680  0.044451 -0.005671 -0.045599 -0.034194 -0.032356   \n",
       "3 -0.089063 -0.044642 -0.011595 -0.036656  0.012191  0.024991 -0.036038   \n",
       "4  0.005383 -0.044642 -0.036385  0.021872  0.003935  0.015596  0.008142   \n",
       "\n",
       "         s4        s5        s6  \n",
       "0 -0.002592  0.019908 -0.017646  \n",
       "1 -0.039493 -0.068330 -0.092204  \n",
       "2 -0.002592  0.002864 -0.025930  \n",
       "3  0.034309  0.022692 -0.009362  \n",
       "4 -0.002592 -0.031991 -0.046641  "
      ]
     },
     "execution_count": 34,
     "metadata": {},
     "output_type": "execute_result"
    }
   ],
   "source": [
    "import pandas as pd\n",
    "\n",
    "df_X = pd.DataFrame(data=data.data, columns=data.feature_names)\n",
    "df_X.head()"
   ]
  },
  {
   "cell_type": "code",
   "execution_count": 35,
   "id": "d6395ef7",
   "metadata": {},
   "outputs": [
    {
     "data": {
      "text/plain": [
       "0    151.0\n",
       "1     75.0\n",
       "2    141.0\n",
       "3    206.0\n",
       "4    135.0\n",
       "dtype: float64"
      ]
     },
     "execution_count": 35,
     "metadata": {},
     "output_type": "execute_result"
    }
   ],
   "source": [
    "df_y = pd.Series(data=data.target)\n",
    "df_y.head()"
   ]
  },
  {
   "cell_type": "markdown",
   "id": "350895b6",
   "metadata": {},
   "source": [
    "## 2. 모델에 입력할 데이터 X 준비하기"
   ]
  },
  {
   "cell_type": "code",
   "execution_count": 36,
   "id": "2cb3d3a1",
   "metadata": {},
   "outputs": [
    {
     "name": "stdout",
     "output_type": "stream",
     "text": [
      "<class 'numpy.ndarray'> (442, 10)\n"
     ]
    }
   ],
   "source": [
    "X = df_X.values\n",
    "print(type(X), X.shape)"
   ]
  },
  {
   "cell_type": "markdown",
   "id": "56875c86",
   "metadata": {},
   "source": [
    "## 3. 모델에 입력할 데이터 y 준비하기"
   ]
  },
  {
   "cell_type": "code",
   "execution_count": 37,
   "id": "25ba36cb",
   "metadata": {},
   "outputs": [
    {
     "name": "stdout",
     "output_type": "stream",
     "text": [
      "<class 'numpy.ndarray'> (442,)\n"
     ]
    }
   ],
   "source": [
    "y = df_y.values\n",
    "print(type(y), y.shape)"
   ]
  },
  {
   "cell_type": "markdown",
   "id": "2da1a503",
   "metadata": {},
   "source": [
    "## 4. train 데이터와 test 데이터로 분리하기"
   ]
  },
  {
   "cell_type": "code",
   "execution_count": 38,
   "id": "848a9b89",
   "metadata": {},
   "outputs": [
    {
     "data": {
      "text/plain": [
       "((353, 10), (89, 10), (353,), (89,))"
      ]
     },
     "execution_count": 38,
     "metadata": {},
     "output_type": "execute_result"
    }
   ],
   "source": [
    "from sklearn.model_selection import train_test_split\n",
    "X_train, X_test, y_train, y_test = train_test_split(X, y, test_size=0.2, random_state=42)\n",
    "X_train.shape, X_test.shape, y_train.shape, y_test.shape"
   ]
  },
  {
   "cell_type": "code",
   "execution_count": 39,
   "id": "1712ef70",
   "metadata": {},
   "outputs": [],
   "source": [
    "# MinMax 스케일링\n",
    "\n",
    "from sklearn.preprocessing import MinMaxScaler\n",
    "scaler = MinMaxScaler()\n",
    "scaler = scaler.fit(X_train)\n",
    "X_train = scaler.transform(X_train)\n",
    "X_test = scaler.transform(X_test)"
   ]
  },
  {
   "cell_type": "markdown",
   "id": "ea994d4f",
   "metadata": {},
   "source": [
    "## 5. 모델 준비하기"
   ]
  },
  {
   "cell_type": "code",
   "execution_count": 40,
   "id": "6c15a0cf",
   "metadata": {},
   "outputs": [
    {
     "name": "stdout",
     "output_type": "stream",
     "text": [
      "[0.6585807  0.69724326 0.28032092 0.7552198  0.74361594 0.04900583\n",
      " 0.47087899 0.02546537 0.93011988 0.27454503]\n",
      "0\n"
     ]
    }
   ],
   "source": [
    "import numpy as np\n",
    "\n",
    "n_features = X_train.shape[-1]\n",
    "W = np.random.rand(n_features)\n",
    "b = 0\n",
    "print(W)\n",
    "print(b)"
   ]
  },
  {
   "cell_type": "code",
   "execution_count": 41,
   "id": "24040d01",
   "metadata": {},
   "outputs": [],
   "source": [
    "def model(X, W, b):\n",
    "    return X.dot(W) + b"
   ]
  },
  {
   "cell_type": "markdown",
   "id": "9bf001b0",
   "metadata": {},
   "source": [
    "## 6. 손실함수 loss 정의하기"
   ]
  },
  {
   "cell_type": "code",
   "execution_count": 42,
   "id": "956716ef",
   "metadata": {},
   "outputs": [],
   "source": [
    "def loss_mse(y, pred):\n",
    "    loss = ((y - pred) ** 2).mean()\n",
    "    return loss"
   ]
  },
  {
   "cell_type": "markdown",
   "id": "efc3751d",
   "metadata": {},
   "source": [
    "## 7. 기울기를 구하는 gradient 함수 구현하기"
   ]
  },
  {
   "cell_type": "code",
   "execution_count": 43,
   "id": "0c03ea81",
   "metadata": {},
   "outputs": [],
   "source": [
    "def gradient(X, W, b, y_pred, y):\n",
    "    N = len(W)\n",
    "    y_pred = model(X, W, b)\n",
    "    dw = 1/N * 2 * X.T.dot(y_pred - y)\n",
    "    db = 2 * (y_pred - y).mean()\n",
    "    return dw, db"
   ]
  },
  {
   "cell_type": "markdown",
   "id": "f14e91c1",
   "metadata": {},
   "source": [
    "## 8. 하이퍼 파라미터 설정"
   ]
  },
  {
   "cell_type": "code",
   "execution_count": 44,
   "id": "553ebeea",
   "metadata": {},
   "outputs": [],
   "source": [
    "lr = 0.001\n",
    "n_epoch = 1000"
   ]
  },
  {
   "cell_type": "markdown",
   "id": "590988b9",
   "metadata": {},
   "source": [
    "## 9. 모델 학습"
   ]
  },
  {
   "cell_type": "code",
   "execution_count": 45,
   "id": "2e7a748f",
   "metadata": {},
   "outputs": [
    {
     "name": "stdout",
     "output_type": "stream",
     "text": [
      "Epoch 100, loss=3761.44500366441)\n",
      "Epoch 200, loss=3379.490273850462)\n",
      "Epoch 300, loss=3192.4376693329164)\n",
      "Epoch 400, loss=3090.3405335524367)\n",
      "Epoch 500, loss=3031.8550644761567)\n",
      "Epoch 600, loss=2996.7573231045735)\n",
      "Epoch 700, loss=2974.6160995653368)\n",
      "Epoch 800, loss=2959.893032995627)\n",
      "Epoch 900, loss=2949.5687738700153)\n",
      "Epoch 1000, loss=2941.9532205702785)\n"
     ]
    }
   ],
   "source": [
    "losses = []\n",
    "for epoch in range(1, n_epoch+1):\n",
    "    # 1. 모델 인퍼런스\n",
    "    y_pred = model(X_train, W, b)\n",
    "    \n",
    "    # 2. 손실 구하기\n",
    "    loss = loss_mse(y_train, y_pred)\n",
    "    \n",
    "    # 3. 기울기 구하기\n",
    "    dw, db = gradient(X_train, W, b, y_pred, y_train)\n",
    "    \n",
    "    # 4. 기울기 업데이트\n",
    "    W -= lr*dw\n",
    "    b -= lr*db\n",
    "    \n",
    "    # 5. 손실 저장\n",
    "    losses.append(loss)\n",
    "    \n",
    "    if epoch % 100 == 0:\n",
    "        print(f\"Epoch {epoch}, loss={loss})\")\n",
    "    "
   ]
  },
  {
   "cell_type": "markdown",
   "id": "dd8c98e8",
   "metadata": {},
   "source": [
    "## 10. test 데이터에 대한 성능 확인"
   ]
  },
  {
   "cell_type": "code",
   "execution_count": 46,
   "id": "7f055e97",
   "metadata": {},
   "outputs": [
    {
     "name": "stdout",
     "output_type": "stream",
     "text": [
      "2896.484247672996\n"
     ]
    }
   ],
   "source": [
    "y_pred = model(X_test, W, b)\n",
    "\n",
    "loss = loss_mse(y_test, y_pred)\n",
    "print(\"MSE:\", loss)"
   ]
  },
  {
   "cell_type": "markdown",
   "id": "5e65b273",
   "metadata": {},
   "source": [
    "## 11. 정답 데이터와 예측한 데이터 시각화 하기"
   ]
  },
  {
   "cell_type": "code",
   "execution_count": 47,
   "id": "6ecc2d10",
   "metadata": {},
   "outputs": [
    {
     "data": {
      "text/plain": [
       "<matplotlib.collections.PathCollection at 0x7da0183e1700>"
      ]
     },
     "execution_count": 47,
     "metadata": {},
     "output_type": "execute_result"
    },
    {
     "data": {
      "image/png": "[encoded data removed]",
      "text/plain": [
       "<Figure size 720x576 with 1 Axes>"
      ]
     },
     "metadata": {
      "needs_background": "light"
     },
     "output_type": "display_data"
    }
   ],
   "source": [
    "import matplotlib.pyplot as plt\n",
    "\n",
    "%matplotlib inline\n",
    "\n",
    "fig = plt.figure(figsize=(10, 8))\n",
    "\n",
    "plt.scatter(X_test[:, 0], y_test, c=\"red\")\n",
    "plt.scatter(X_test[:, 0], y_pred, c=\"blue\")"
   ]
  }
 ],
 "metadata": {
  "kernelspec": {
   "display_name": "Python 3 (ipykernel)",
   "language": "python",
   "name": "python3"
  },
  "language_info": {
   "codemirror_mode": {
    "name": "ipython",
    "version": 3
   },
   "file_extension": ".py",
   "mimetype": "text/x-python",
   "name": "python",
   "nbconvert_exporter": "python",
   "pygments_lexer": "ipython3",
   "version": "3.9.7"
  }
 },
 "nbformat": 4,
 "nbformat_minor": 5
}
