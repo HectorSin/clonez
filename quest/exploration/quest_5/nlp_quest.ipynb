{
 "cells": [
  {
   "cell_type": "markdown",
   "id": "c6ecf949",
   "metadata": {},
   "source": [
    "## 라이브러리 버전 확인"
   ]
  },
  {
   "cell_type": "code",
   "execution_count": 227,
   "id": "c17bc158",
   "metadata": {},
   "outputs": [
    {
     "name": "stdout",
     "output_type": "stream",
     "text": [
      "1.3.3\n",
      "0.5.2\n",
      "4.1.2\n"
     ]
    }
   ],
   "source": [
    "import pandas\n",
    "import konlpy\n",
    "import gensim\n",
    "\n",
    "print(pandas.__version__)\n",
    "print(konlpy.__version__)\n",
    "print(gensim.__version__)"
   ]
  },
  {
   "cell_type": "markdown",
   "id": "10c76220",
   "metadata": {},
   "source": [
    "## 1) 데이터 준비와 확인"
   ]
  },
  {
   "cell_type": "code",
   "execution_count": 228,
   "id": "07c68bfa",
   "metadata": {},
   "outputs": [
    {
     "name": "stdout",
     "output_type": "stream",
     "text": [
      "(150000, 3)\n",
      "(50000, 3)\n"
     ]
    },
    {
     "data": {
      "text/html": [
       "<div>\n",
       "<style scoped>\n",
       "    .dataframe tbody tr th:only-of-type {\n",
       "        vertical-align: middle;\n",
       "    }\n",
       "\n",
       "    .dataframe tbody tr th {\n",
       "        vertical-align: top;\n",
       "    }\n",
       "\n",
       "    .dataframe thead th {\n",
       "        text-align: right;\n",
       "    }\n",
       "</style>\n",
       "<table border=\"1\" class=\"dataframe\">\n",
       "  <thead>\n",
       "    <tr style=\"text-align: right;\">\n",
       "      <th></th>\n",
       "      <th>id</th>\n",
       "      <th>document</th>\n",
       "      <th>label</th>\n",
       "    </tr>\n",
       "  </thead>\n",
       "  <tbody>\n",
       "    <tr>\n",
       "      <th>0</th>\n",
       "      <td>9976970</td>\n",
       "      <td>아 더빙.. 진짜 짜증나네요 목소리</td>\n",
       "      <td>0</td>\n",
       "    </tr>\n",
       "    <tr>\n",
       "      <th>1</th>\n",
       "      <td>3819312</td>\n",
       "      <td>흠...포스터보고 초딩영화줄....오버연기조차 가볍지 않구나</td>\n",
       "      <td>1</td>\n",
       "    </tr>\n",
       "    <tr>\n",
       "      <th>2</th>\n",
       "      <td>10265843</td>\n",
       "      <td>너무재밓었다그래서보는것을추천한다</td>\n",
       "      <td>0</td>\n",
       "    </tr>\n",
       "    <tr>\n",
       "      <th>3</th>\n",
       "      <td>9045019</td>\n",
       "      <td>교도소 이야기구먼 ..솔직히 재미는 없다..평점 조정</td>\n",
       "      <td>0</td>\n",
       "    </tr>\n",
       "    <tr>\n",
       "      <th>4</th>\n",
       "      <td>6483659</td>\n",
       "      <td>사이몬페그의 익살스런 연기가 돋보였던 영화!스파이더맨에서 늙어보이기만 했던 커스틴 ...</td>\n",
       "      <td>1</td>\n",
       "    </tr>\n",
       "  </tbody>\n",
       "</table>\n",
       "</div>"
      ],
      "text/plain": [
       "         id                                           document  label\n",
       "0   9976970                                아 더빙.. 진짜 짜증나네요 목소리      0\n",
       "1   3819312                  흠...포스터보고 초딩영화줄....오버연기조차 가볍지 않구나      1\n",
       "2  10265843                                  너무재밓었다그래서보는것을추천한다      0\n",
       "3   9045019                      교도소 이야기구먼 ..솔직히 재미는 없다..평점 조정      0\n",
       "4   6483659  사이몬페그의 익살스런 연기가 돋보였던 영화!스파이더맨에서 늙어보이기만 했던 커스틴 ...      1"
      ]
     },
     "execution_count": 228,
     "metadata": {},
     "output_type": "execute_result"
    }
   ],
   "source": [
    "# 데이터 로드\n",
    "\n",
    "import pandas as pd\n",
    "\n",
    "train_data = pd.read_table('~/aiffel/sentiment_classification/data/ratings_train.txt')\n",
    "test_data = pd.read_table('~/aiffel/sentiment_classification/data/ratings_test.txt')\n",
    "\n",
    "print(train_data.shape)\n",
    "print(test_data.shape)\n",
    "train_data.head()"
   ]
  },
  {
   "cell_type": "markdown",
   "id": "4d579820",
   "metadata": {},
   "source": [
    "## 2) 데이터로더 구성"
   ]
  },
  {
   "cell_type": "code",
   "execution_count": 229,
   "id": "3881a78f",
   "metadata": {},
   "outputs": [],
   "source": [
    "# 데이터 로드 구성\n",
    "\n",
    "from konlpy.tag import Mecab\n",
    "import numpy as np\n",
    "from collections import Counter\n",
    "\n",
    "tokenizer = Mecab()\n",
    "stopwords = ['의','가','이','은','들','는','좀','잘','걍','과','도','를','으로','자','에','와','한','하다']\n",
    "stopwords += [\",\", \".\", \"'\", \"\\\"\", \"%\", \"^\", \"*\", \"(\", \")\"]\n",
    "num_words = 5_000\n",
    "\n",
    "def load_data(train_data, test_data, num_words):\n",
    "    \n",
    "    # 데이터 중복 제거\n",
    "    train_data.drop_duplicates(subset=\"document\", inplace=True)\n",
    "    test_data.drop_duplicates(subset=\"document\", inplace=True)\n",
    "    \n",
    "    # 결측치 제거\n",
    "    train_data.dropna(axis=\"rows\", inplace=True)\n",
    "    test_data.dropna(axis=\"rows\", inplace=True)\n",
    "    \n",
    "    # 토큰화\n",
    "    train_sencences = train_data[\"document\"].apply(tokenizer.morphs)\n",
    "    test_sencences = test_data[\"document\"].apply(tokenizer.morphs)\n",
    "    \n",
    "    # 불용어 제거\n",
    "    remove_stopwords = lambda sentence: [word for word in sentence if word not in stopwords]\n",
    "    train_sentences = train_sencences.apply(remove_stopwords)\n",
    "    train_sentences = list(map(list, train_sentences))\n",
    "    test_sentences = test_sencences.apply(remove_stopwords).values\n",
    "    test_sentences = list(map(list, test_sentences))\n",
    "\n",
    "    total_sentence = train_sentences + test_sentences\n",
    "\n",
    "    # word to index\n",
    "    word_dict = {}\n",
    "    for sentence in total_sentence:\n",
    "        for word in sentence:\n",
    "            if word_dict.get(word) is not None:\n",
    "                word_dict[word] += 1\n",
    "            else:\n",
    "                word_dict[word] = 1\n",
    "    word_list = sorted(word_dict.items(), key=lambda item: item[1])\n",
    "    word_list = word_list[len(word_list)-num_words:]\n",
    "    word_to_index = {word:index+1 for index, (word, _) in enumerate(word_list)}\n",
    "    \n",
    "    # 특수한 토큰 처리\n",
    "    for word in word_to_index.keys(): \n",
    "        word_to_index[word] += 3\n",
    "    word_to_index[\"<PAD>\"] = 0\n",
    "    word_to_index[\"<BOS>\"] = 1\n",
    "    word_to_index[\"<UNK>\"] = 2\n",
    "    word_to_index[\"<UNUSED>\"] = 3\n",
    "    \n",
    "    # vectorize\n",
    "    def to_vectors(sentence):\n",
    "        vector = [word_to_index['<BOS>']]\n",
    "        for word in sentence:\n",
    "            index = word_to_index.get(word)\n",
    "            if index is not None:\n",
    "                vector.append(index)\n",
    "            else:\n",
    "                vector.append(word_to_index[\"<UNK>\"])\n",
    "        return vector\n",
    "    \n",
    "    X_train = train_sencences.apply(to_vectors)\n",
    "    y_train = train_data[\"label\"]\n",
    "    X_test = test_sencences.apply(to_vectors)\n",
    "    y_test = test_data[\"label\"]\n",
    "\n",
    "    return X_train, y_train, X_test, y_test, word_to_index\n",
    "    \n",
    "X_train, y_train, X_test, y_test, word_to_index = load_data(train_data, test_data, num_words=num_words)"
   ]
  },
  {
   "cell_type": "code",
   "execution_count": 230,
   "id": "858bd7aa",
   "metadata": {},
   "outputs": [],
   "source": [
    "index_to_word = { index:word for word, index in word_to_index.items() }"
   ]
  },
  {
   "cell_type": "code",
   "execution_count": 231,
   "id": "2c07a3b5",
   "metadata": {},
   "outputs": [
    {
     "name": "stdout",
     "output_type": "stream",
     "text": [
      "<BOS> 아 더 빙 <UNK> <UNK> 진짜 짜증 나 네요 목소리\n",
      "<BOS> 흠 <UNK> .. 포스터 보고 초딩 영화 줄 <UNK> ... 오버 연기 조차 가볍 지 않 구나\n"
     ]
    }
   ],
   "source": [
    "print(\" \".join([index_to_word[index] for index in X_train[0]]))\n",
    "print(\" \".join([index_to_word[index] for index in X_train[1]]))"
   ]
  },
  {
   "cell_type": "code",
   "execution_count": 232,
   "id": "e0885fa2",
   "metadata": {},
   "outputs": [
    {
     "name": "stdout",
     "output_type": "stream",
     "text": [
      "116945 116945 29237 49157\n"
     ]
    }
   ],
   "source": [
    "# split validation\n",
    "from sklearn.model_selection import train_test_split\n",
    "\n",
    "X_train, X_valid, y_train, y_valid = train_test_split(X_train, y_train, test_size=0.2, stratify=y_train, random_state=42)\n",
    "print(len(X_train), len(y_train), len(X_valid), len(y_test))\n"
   ]
  },
  {
   "cell_type": "markdown",
   "id": "ab51ca72",
   "metadata": {},
   "source": [
    "## 3) 모델 구성을 위한 데이터 분석 및 가공"
   ]
  },
  {
   "cell_type": "code",
   "execution_count": 233,
   "id": "01994145",
   "metadata": {},
   "outputs": [
    {
     "name": "stdout",
     "output_type": "stream",
     "text": [
      "train size 116945\n",
      "mean 19.750395485057076\n",
      "max 117\n",
      "std 15.329924204599436\n"
     ]
    }
   ],
   "source": [
    "import numpy as np\n",
    "len_X_train = np.array([len(sentence) for sentence in X_train])\n",
    "mean = len_X_train.mean()\n",
    "max = len_X_train.max()\n",
    "std = len_X_train.std()\n",
    "print(\"train size\", len(len_X_train))\n",
    "print(\"mean\", mean)\n",
    "print(\"max\", max)\n",
    "print(\"std\", std)"
   ]
  },
  {
   "cell_type": "code",
   "execution_count": 234,
   "id": "01dc55d5",
   "metadata": {},
   "outputs": [
    {
     "name": "stdout",
     "output_type": "stream",
     "text": [
      "max_len 50\n"
     ]
    }
   ],
   "source": [
    "max_len = round(mean + 2 * std)\n",
    "print(\"max_len\", max_len)"
   ]
  },
  {
   "cell_type": "code",
   "execution_count": 235,
   "id": "b56109a2",
   "metadata": {},
   "outputs": [
    {
     "name": "stdout",
     "output_type": "stream",
     "text": [
      "(116945, 50) (116945,) (29237,) (29237,) (49157, 50) (49157,)\n"
     ]
    }
   ],
   "source": [
    "import tensorflow as tf\n",
    "\n",
    "def pad_sequences(sequences, padding, max_len):\n",
    "    return tf.keras.preprocessing.sequence.pad_sequences(sequences=sequences,\n",
    "                                                          value=word_to_index[\"<PAD>\"],\n",
    "                                                          padding=\"post\",\n",
    "                                                          maxlen=max_len)\n",
    "\n",
    "X_train_post = pad_sequences(X_train, \"post\", max_len)\n",
    "X_valid_post = pad_sequences(X_valid, \"post\", max_len)\n",
    "X_test_post = pad_sequences(X_test, \"post\", max_len)\n",
    "print(X_train_post.shape, y_train.shape, X_valid.shape, y_valid.shape, X_test_post.shape, y_test.shape)"
   ]
  },
  {
   "cell_type": "code",
   "execution_count": 236,
   "id": "01094bd1",
   "metadata": {},
   "outputs": [
    {
     "name": "stdout",
     "output_type": "stream",
     "text": [
      "[   1 4851    2 5002    2 4803 4855 4992    2 1012 4982 4956 4792    0\n",
      "    0    0    0    0    0    0    0    0    0    0    0    0    0    0\n",
      "    0    0    0    0    0    0    0    0    0    0    0    0    0    0\n",
      "    0    0    0    0    0    0    0    0]\n"
     ]
    }
   ],
   "source": [
    "print(X_test_post[5000])"
   ]
  },
  {
   "cell_type": "markdown",
   "id": "570eb03a",
   "metadata": {},
   "source": [
    "## 4) 모델 구성 및 validation set 구성"
   ]
  },
  {
   "cell_type": "code",
   "execution_count": 250,
   "id": "7a2e07c0",
   "metadata": {},
   "outputs": [],
   "source": [
    "from tensorflow.keras import layers\n",
    "\n",
    "class Conv1DModel(tf.keras.Model):\n",
    "    \n",
    "    def __init__(self, input_dim, output_dim):\n",
    "        super().__init__()\n",
    "        self.embedding = layers.Embedding(input_dim=input_dim, output_dim=output_dim, mask_zero=True)\n",
    "        self.conv_1 = layers.Conv1D(8, 16, activation=\"relu\")\n",
    "        self.dropout_1 = layers.Dropout(0.5)\n",
    "        self.pool_1 = layers.MaxPooling1D(5)\n",
    "        self.conv_2 = layers.Conv1D(16, 2, activation=\"relu\")\n",
    "        self.dropout_2 = layers.Dropout(0.5)\n",
    "        self.pool_2 = layers.GlobalMaxPooling1D()\n",
    "        self.flatten = layers.Flatten()\n",
    "        self.fc = layers.Dense(16, activation=\"relu\")\n",
    "        self.out = layers.Dense(1, activation=\"sigmoid\")\n",
    "        \n",
    "    def call(self, inputs):\n",
    "        x = self.embedding(inputs)\n",
    "        x = self.conv_1(x)\n",
    "        x = self.dropout_1(x)\n",
    "        x = self.pool_1(x)\n",
    "        x = self.conv_2(x)\n",
    "        x = self.dropout_2(x)\n",
    "        x = self.pool_2(x)\n",
    "        x = self.flatten(x)\n",
    "        x = self.fc(x)\n",
    "        out = self.out(x)\n",
    "        return out\n",
    "    \n",
    "class LSTMModel(tf.keras.Model):\n",
    "    \n",
    "    def __init__(self, output_size, input_dim, output_dim):\n",
    "        super().__init__()\n",
    "        self.embedding = layers.Embedding(input_dim=input_dim, output_dim=output_dim, mask_zero=True)\n",
    "        self.bi_lstm1 = layers.Bidirectional(\n",
    "                            layers.LSTM(units=output_size, \n",
    "                                        dropout=0.5, \n",
    "                                        recurrent_dropout=0.3)\n",
    "                        )\n",
    "        self.fc = layers.Dense(16, activation=\"relu\")\n",
    "        self.out = layers.Dense(1, activation=\"sigmoid\")\n",
    "        \n",
    "    def call(self, inputs):\n",
    "        x = self.embedding(inputs)\n",
    "        x = self.bi_lstm1(x)\n",
    "        x = self.fc(x)\n",
    "        out = self.out(x)\n",
    "        return out\n",
    "        "
   ]
  },
  {
   "cell_type": "code",
   "execution_count": 240,
   "id": "57ae5339",
   "metadata": {},
   "outputs": [
    {
     "name": "stdout",
     "output_type": "stream",
     "text": [
      "Model: \"conv1d_model_55\"\n",
      "_________________________________________________________________\n",
      "Layer (type)                 Output Shape              Param #   \n",
      "=================================================================\n",
      "embedding_55 (Embedding)     multiple                  80000     \n",
      "_________________________________________________________________\n",
      "conv1d_112 (Conv1D)          multiple                  2056      \n",
      "_________________________________________________________________\n",
      "dropout_31 (Dropout)         multiple                  0         \n",
      "_________________________________________________________________\n",
      "max_pooling1d_59 (MaxPooling multiple                  0         \n",
      "_________________________________________________________________\n",
      "conv1d_113 (Conv1D)          multiple                  272       \n",
      "_________________________________________________________________\n",
      "dropout_32 (Dropout)         multiple                  0         \n",
      "_________________________________________________________________\n",
      "global_max_pooling1d_49 (Glo multiple                  0         \n",
      "_________________________________________________________________\n",
      "flatten_46 (Flatten)         multiple                  0         \n",
      "_________________________________________________________________\n",
      "dense_96 (Dense)             multiple                  272       \n",
      "_________________________________________________________________\n",
      "dense_97 (Dense)             multiple                  17        \n",
      "=================================================================\n",
      "Total params: 82,617\n",
      "Trainable params: 82,617\n",
      "Non-trainable params: 0\n",
      "_________________________________________________________________\n"
     ]
    }
   ],
   "source": [
    "conv_model = Conv1DModel(input_dim=num_words, output_dim=16)\n",
    "inputs = layers.Input(shape=(49,))\n",
    "conv_model(inputs)\n",
    "conv_model.summary()"
   ]
  },
  {
   "cell_type": "markdown",
   "id": "675da21a",
   "metadata": {},
   "source": [
    "## 5) 모델 훈련"
   ]
  },
  {
   "cell_type": "code",
   "execution_count": 241,
   "id": "be6eeadb",
   "metadata": {},
   "outputs": [
    {
     "name": "stdout",
     "output_type": "stream",
     "text": [
      "Epoch 1/20\n",
      "457/457 - 3s - loss: 0.2749 - accuracy: 0.8868 - val_loss: 0.3676 - val_accuracy: 0.8382\n",
      "Epoch 2/20\n",
      "457/457 - 3s - loss: 0.2713 - accuracy: 0.8889 - val_loss: 0.3696 - val_accuracy: 0.8379\n",
      "Epoch 3/20\n",
      "457/457 - 3s - loss: 0.2706 - accuracy: 0.8894 - val_loss: 0.3703 - val_accuracy: 0.8375\n",
      "Epoch 4/20\n",
      "457/457 - 3s - loss: 0.2708 - accuracy: 0.8895 - val_loss: 0.3698 - val_accuracy: 0.8375\n",
      "Epoch 5/20\n",
      "457/457 - 3s - loss: 0.2690 - accuracy: 0.8897 - val_loss: 0.3717 - val_accuracy: 0.8375\n",
      "Epoch 6/20\n",
      "457/457 - 3s - loss: 0.2689 - accuracy: 0.8900 - val_loss: 0.3735 - val_accuracy: 0.8357\n",
      "Epoch 7/20\n",
      "457/457 - 3s - loss: 0.2673 - accuracy: 0.8906 - val_loss: 0.3741 - val_accuracy: 0.8362\n",
      "Epoch 8/20\n",
      "457/457 - 3s - loss: 0.2672 - accuracy: 0.8904 - val_loss: 0.3731 - val_accuracy: 0.8348\n",
      "Epoch 9/20\n",
      "457/457 - 2s - loss: 0.2667 - accuracy: 0.8907 - val_loss: 0.3762 - val_accuracy: 0.8341\n",
      "Epoch 10/20\n",
      "457/457 - 2s - loss: 0.2657 - accuracy: 0.8920 - val_loss: 0.3732 - val_accuracy: 0.8381\n",
      "Epoch 11/20\n",
      "457/457 - 3s - loss: 0.2652 - accuracy: 0.8921 - val_loss: 0.3723 - val_accuracy: 0.8370\n",
      "Epoch 12/20\n",
      "457/457 - 3s - loss: 0.2639 - accuracy: 0.8920 - val_loss: 0.3736 - val_accuracy: 0.8353\n",
      "Epoch 13/20\n",
      "457/457 - 3s - loss: 0.2626 - accuracy: 0.8927 - val_loss: 0.3732 - val_accuracy: 0.8363\n",
      "Epoch 14/20\n",
      "457/457 - 2s - loss: 0.2614 - accuracy: 0.8939 - val_loss: 0.3729 - val_accuracy: 0.8375\n",
      "Epoch 15/20\n",
      "457/457 - 3s - loss: 0.2632 - accuracy: 0.8931 - val_loss: 0.3723 - val_accuracy: 0.8378\n",
      "Epoch 16/20\n",
      "457/457 - 3s - loss: 0.2620 - accuracy: 0.8936 - val_loss: 0.3740 - val_accuracy: 0.8373\n",
      "Epoch 17/20\n",
      "457/457 - 2s - loss: 0.2614 - accuracy: 0.8934 - val_loss: 0.3750 - val_accuracy: 0.8358\n",
      "Epoch 18/20\n",
      "457/457 - 3s - loss: 0.2621 - accuracy: 0.8933 - val_loss: 0.3719 - val_accuracy: 0.8373\n",
      "Epoch 19/20\n",
      "457/457 - 3s - loss: 0.2614 - accuracy: 0.8936 - val_loss: 0.3759 - val_accuracy: 0.8375\n",
      "Epoch 20/20\n",
      "457/457 - 3s - loss: 0.2607 - accuracy: 0.8938 - val_loss: 0.3728 - val_accuracy: 0.8384\n"
     ]
    }
   ],
   "source": [
    "conv_model.compile(loss=\"binary_crossentropy\",\n",
    "                     optimizer=\"adam\",\n",
    "                     metrics=[\"accuracy\"])\n",
    "conv_history = conv1d_model.fit(X_train_post, y_train,\n",
    "                 epochs=20,\n",
    "                 batch_size=256,\n",
    "                 validation_data=(X_valid_post, y_valid),\n",
    "                 verbose=2)"
   ]
  },
  {
   "cell_type": "code",
   "execution_count": 242,
   "id": "19c3171a",
   "metadata": {},
   "outputs": [
    {
     "name": "stdout",
     "output_type": "stream",
     "text": [
      "97/97 - 0s - loss: 0.3753 - accuracy: 0.8358\n",
      "[0.3701452314853668, 0.8425859808921814]\n"
     ]
    }
   ],
   "source": [
    "conv_results = conv1d_model.evaluate(X_test_post, y_test, \n",
    "                                     batch_size=512, \n",
    "                                     verbose=2)\n",
    "print(results)"
   ]
  },
  {
   "cell_type": "code",
   "execution_count": 251,
   "id": "74b79cc6",
   "metadata": {},
   "outputs": [
    {
     "name": "stdout",
     "output_type": "stream",
     "text": [
      "WARNING:tensorflow:Layer lstm_6 will not use cuDNN kernels since it doesn't meet the criteria. It will use a generic GPU kernel as fallback when running on GPU.\n",
      "WARNING:tensorflow:Layer lstm_6 will not use cuDNN kernels since it doesn't meet the criteria. It will use a generic GPU kernel as fallback when running on GPU.\n",
      "WARNING:tensorflow:Layer lstm_6 will not use cuDNN kernels since it doesn't meet the criteria. It will use a generic GPU kernel as fallback when running on GPU.\n",
      "Model: \"lstm_model_4\"\n",
      "_________________________________________________________________\n",
      "Layer (type)                 Output Shape              Param #   \n",
      "=================================================================\n",
      "embedding_57 (Embedding)     multiple                  80000     \n",
      "_________________________________________________________________\n",
      "bidirectional_6 (Bidirection multiple                  12544     \n",
      "_________________________________________________________________\n",
      "dense_100 (Dense)            multiple                  1040      \n",
      "_________________________________________________________________\n",
      "dense_101 (Dense)            multiple                  17        \n",
      "=================================================================\n",
      "Total params: 93,601\n",
      "Trainable params: 93,601\n",
      "Non-trainable params: 0\n",
      "_________________________________________________________________\n"
     ]
    }
   ],
   "source": [
    "lstm_model = LSTMModel(output_size=32, input_dim=num_words, output_dim=16)\n",
    "\n",
    "lstm_model(inputs)\n",
    "lstm_model.summary()"
   ]
  },
  {
   "cell_type": "code",
   "execution_count": 252,
   "id": "12ab2ff3",
   "metadata": {},
   "outputs": [
    {
     "name": "stdout",
     "output_type": "stream",
     "text": [
      "Epoch 1/5\n",
      "457/457 [==============================] - 217s 448ms/step - loss: 0.4342 - accuracy: 0.7981 - val_loss: 0.3586 - val_accuracy: 0.8419\n",
      "Epoch 2/5\n",
      "457/457 [==============================] - 205s 448ms/step - loss: 0.3539 - accuracy: 0.8451 - val_loss: 0.3564 - val_accuracy: 0.8438\n",
      "Epoch 3/5\n",
      "457/457 [==============================] - 205s 449ms/step - loss: 0.3431 - accuracy: 0.8527 - val_loss: 0.3536 - val_accuracy: 0.8450\n",
      "Epoch 4/5\n",
      "457/457 [==============================] - 205s 448ms/step - loss: 0.3385 - accuracy: 0.8536 - val_loss: 0.3521 - val_accuracy: 0.8444\n",
      "Epoch 5/5\n",
      "457/457 [==============================] - 205s 449ms/step - loss: 0.3346 - accuracy: 0.8565 - val_loss: 0.3507 - val_accuracy: 0.8459\n"
     ]
    }
   ],
   "source": [
    "lstm_model.compile(loss=\"binary_crossentropy\",\n",
    "                   optimizer=\"adam\",\n",
    "                   metrics=[\"accuracy\"])\n",
    "lstm_history = lstm_model.fit(X_train_post, y_train, \n",
    "               batch_size=256, \n",
    "               epochs=5,\n",
    "               validation_data=(X_valid_post, y_valid))"
   ]
  },
  {
   "cell_type": "code",
   "execution_count": 255,
   "id": "aa71a617",
   "metadata": {},
   "outputs": [
    {
     "name": "stdout",
     "output_type": "stream",
     "text": [
      "1537/1537 - 48s - loss: 0.3539 - accuracy: 0.8454\n",
      "[0.3538607656955719, 0.8453729748725891]\n"
     ]
    }
   ],
   "source": [
    "lstm_results = lstm_model.evaluate(X_test_post, y_test, verbose=2)\n",
    "print(lstm_results)"
   ]
  },
  {
   "cell_type": "markdown",
   "id": "7319ff22",
   "metadata": {},
   "source": [
    "## 6) Loss, Accuracy 그래프 시각화"
   ]
  },
  {
   "cell_type": "code",
   "execution_count": 264,
   "id": "9f762088",
   "metadata": {},
   "outputs": [],
   "source": [
    "import matplotlib.pyplot as plt\n",
    "\n",
    "%matplotlib inline\n",
    "\n",
    "def visulization(model_name, history):\n",
    "    \n",
    "    history_dict = history.history\n",
    "    loss = history_dict[\"loss\"]\n",
    "    val_loss = history_dict[\"val_loss\"]\n",
    "    accuracy = history_dict[\"accuracy\"]\n",
    "    val_accuracy = history_dict[\"val_accuracy\"]\n",
    "    \n",
    "    plt.figure(figsize=(10, 6))\n",
    "    \n",
    "    plt.title(model_name)\n",
    "    \n",
    "    plt.subplot(121)\n",
    "    plt.title(\"Loss\")\n",
    "    plt.plot(range(1, len(loss)+1), loss, color=\"blue\", label=\"train\")\n",
    "    plt.plot(range(1, len(val_loss)+1), val_loss, color=\"orange\", label=\"valid\")\n",
    "    plt.legend()\n",
    "    \n",
    "    plt.subplot(122)\n",
    "    plt.title(\"Accuracy\")\n",
    "    plt.plot(range(1, len(accuracy)+1), accuracy, color=\"blue\", label=\"train\")\n",
    "    plt.plot(range(1, len(val_accuracy)+1), val_accuracy, color=\"orange\", label=\"valid\")\n",
    "    plt.legend()\n",
    "    \n",
    "    plt.tight_layout()\n",
    "    plt.show()"
   ]
  },
  {
   "cell_type": "code",
   "execution_count": 265,
   "id": "7bd9b001",
   "metadata": {},
   "outputs": [
    {
     "data": {
      "image/png": "[encoded data removed]",
      "text/plain": [
       "<Figure size 720x432 with 2 Axes>"
      ]
     },
     "metadata": {
      "needs_background": "light"
     },
     "output_type": "display_data"
    }
   ],
   "source": [
    "visulization(\"Conv1D\", conv_history)"
   ]
  },
  {
   "cell_type": "code",
   "execution_count": 266,
   "id": "995e4cad",
   "metadata": {},
   "outputs": [
    {
     "data": {
      "image/png": "[encoded data removed]",
      "text/plain": [
       "<Figure size 720x432 with 2 Axes>"
      ]
     },
     "metadata": {
      "needs_background": "light"
     },
     "output_type": "display_data"
    }
   ],
   "source": [
    "visulization(\"LSTM\", lstm_history)"
   ]
  },
  {
   "cell_type": "markdown",
   "id": "03ca016e",
   "metadata": {},
   "source": [
    "## 7) 학습된 Embedding 레이어 분석"
   ]
  },
  {
   "cell_type": "markdown",
   "id": "315c6c01",
   "metadata": {},
   "source": [
    "## 8) 한국어 Word2Vec 임베딩 활용하여 성능 개선"
   ]
  },
  {
   "cell_type": "markdown",
   "id": "e16a4099",
   "metadata": {},
   "source": [
    "## 회고\n",
    "* 배운 점\n",
    "  - 전체적인 처리 과정을 상세하게 학습할 수 있었다.\n",
    "* 아쉬운 점\n",
    "  - 하니씩 자세하게 보다보니 학습 시간내에는 프로젝트를 다 마무리 못해서 아쉬웠다. \n",
    "* 느낀 점\n",
    "  - 분류 이외 여러 태스크들을 진행해봐야겠다.\n",
    "* 어려웠던 점\n",
    "  - 각 내용의 상세한 구현 및 구조를 깊게 파악하는게 쉽지 않은 것 같다."
   ]
  }
 ],
 "metadata": {
  "kernelspec": {
   "display_name": "Python 3 (ipykernel)",
   "language": "python",
   "name": "python3"
  },
  "language_info": {
   "codemirror_mode": {
    "name": "ipython",
    "version": 3
   },
   "file_extension": ".py",
   "mimetype": "text/x-python",
   "name": "python",
   "nbconvert_exporter": "python",
   "pygments_lexer": "ipython3",
   "version": "3.9.7"
  }
 },
 "nbformat": 4,
 "nbformat_minor": 5
}
