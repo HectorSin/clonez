{
 "cells": [
  {
   "cell_type": "code",
   "execution_count": 1,
   "id": "0b087ca5",
   "metadata": {},
   "outputs": [
    {
     "name": "stdout",
     "output_type": "stream",
     "text": [
      "1.3.3\n",
      "0.5.2\n",
      "4.1.2\n"
     ]
    }
   ],
   "source": [
    "import pandas\n",
    "import konlpy\n",
    "import gensim\n",
    "\n",
    "print(pandas.__version__)\n",
    "print(konlpy.__version__)\n",
    "print(gensim.__version__)"
   ]
  },
  {
   "cell_type": "code",
   "execution_count": 3,
   "id": "eadc751c",
   "metadata": {},
   "outputs": [
    {
     "name": "stdout",
     "output_type": "stream",
     "text": [
      "(150000, 3)\n"
     ]
    },
    {
     "data": {
      "text/html": [
       "<div>\n",
       "<style scoped>\n",
       "    .dataframe tbody tr th:only-of-type {\n",
       "        vertical-align: middle;\n",
       "    }\n",
       "\n",
       "    .dataframe tbody tr th {\n",
       "        vertical-align: top;\n",
       "    }\n",
       "\n",
       "    .dataframe thead th {\n",
       "        text-align: right;\n",
       "    }\n",
       "</style>\n",
       "<table border=\"1\" class=\"dataframe\">\n",
       "  <thead>\n",
       "    <tr style=\"text-align: right;\">\n",
       "      <th></th>\n",
       "      <th>id</th>\n",
       "      <th>document</th>\n",
       "      <th>label</th>\n",
       "    </tr>\n",
       "  </thead>\n",
       "  <tbody>\n",
       "    <tr>\n",
       "      <th>0</th>\n",
       "      <td>9976970</td>\n",
       "      <td>아 더빙.. 진짜 짜증나네요 목소리</td>\n",
       "      <td>0</td>\n",
       "    </tr>\n",
       "    <tr>\n",
       "      <th>1</th>\n",
       "      <td>3819312</td>\n",
       "      <td>흠...포스터보고 초딩영화줄....오버연기조차 가볍지 않구나</td>\n",
       "      <td>1</td>\n",
       "    </tr>\n",
       "    <tr>\n",
       "      <th>2</th>\n",
       "      <td>10265843</td>\n",
       "      <td>너무재밓었다그래서보는것을추천한다</td>\n",
       "      <td>0</td>\n",
       "    </tr>\n",
       "    <tr>\n",
       "      <th>3</th>\n",
       "      <td>9045019</td>\n",
       "      <td>교도소 이야기구먼 ..솔직히 재미는 없다..평점 조정</td>\n",
       "      <td>0</td>\n",
       "    </tr>\n",
       "    <tr>\n",
       "      <th>4</th>\n",
       "      <td>6483659</td>\n",
       "      <td>사이몬페그의 익살스런 연기가 돋보였던 영화!스파이더맨에서 늙어보이기만 했던 커스틴 ...</td>\n",
       "      <td>1</td>\n",
       "    </tr>\n",
       "  </tbody>\n",
       "</table>\n",
       "</div>"
      ],
      "text/plain": [
       "         id                                           document  label\n",
       "0   9976970                                아 더빙.. 진짜 짜증나네요 목소리      0\n",
       "1   3819312                  흠...포스터보고 초딩영화줄....오버연기조차 가볍지 않구나      1\n",
       "2  10265843                                  너무재밓었다그래서보는것을추천한다      0\n",
       "3   9045019                      교도소 이야기구먼 ..솔직히 재미는 없다..평점 조정      0\n",
       "4   6483659  사이몬페그의 익살스런 연기가 돋보였던 영화!스파이더맨에서 늙어보이기만 했던 커스틴 ...      1"
      ]
     },
     "execution_count": 3,
     "metadata": {},
     "output_type": "execute_result"
    }
   ],
   "source": [
    "# 데이터 로드\n",
    "\n",
    "import pandas as pd\n",
    "\n",
    "train_data = pd.read_table('~/aiffel/sentiment_classification/data/ratings_train.txt')\n",
    "test_data = pd.read_table('~/aiffel/sentiment_classification/data/ratings_test.txt')\n",
    "\n",
    "print(train_data.shape)\n",
    "train_data.head()"
   ]
  },
  {
   "cell_type": "code",
   "execution_count": 16,
   "id": "0db5df40",
   "metadata": {},
   "outputs": [],
   "source": [
    "# 데이터 로드 구성\n",
    "\n",
    "from konlpy.tag import Mecab\n",
    "import numpy as np\n",
    "from collections import Counter\n",
    "\n",
    "tokenizer = Mecab()\n",
    "stopwords = ['의','가','이','은','들','는','좀','잘','걍','과','도','를','으로','자','에','와','한','하다']\n",
    "stopwords += [\",\", \".\", \"'\", \"\\\"\"]\n",
    "# def load_data(train_data, test_data, num_words=num_words):\n",
    "#     # 데이터 중복 제거\n",
    "#     # 결측치 제거\n",
    "#     # 한국어 토크나이저\n",
    "#     # 불용어 제거\n",
    "#     # word_to_index\n",
    "#     # index_to_word\n",
    "    \n",
    "# X_train, y_train, X_test, y_test, word_to_index = load_data(train_data, test_data)"
   ]
  },
  {
   "cell_type": "code",
   "execution_count": 5,
   "id": "1fe11ce0",
   "metadata": {},
   "outputs": [
    {
     "name": "stdout",
     "output_type": "stream",
     "text": [
      "(146183, 3)\n"
     ]
    }
   ],
   "source": [
    "# 중복 제거\n",
    "_train_data = train_data.drop_duplicates(subset=\"document\")\n",
    "print(_train_data.shape)"
   ]
  },
  {
   "cell_type": "code",
   "execution_count": 9,
   "id": "0c6f54c5",
   "metadata": {},
   "outputs": [
    {
     "name": "stdout",
     "output_type": "stream",
     "text": [
      "(146182, 3)\n"
     ]
    }
   ],
   "source": [
    "# 결측치 제거\n",
    "_train_data = _train_data.dropna(axis=\"rows\")\n",
    "print(_train_data.shape)"
   ]
  },
  {
   "cell_type": "code",
   "execution_count": 37,
   "id": "56a72f39",
   "metadata": {},
   "outputs": [
    {
     "name": "stdout",
     "output_type": "stream",
     "text": [
      "['병원', '병원', '은', '멀어요', '.', '그', '그', '그']\n"
     ]
    }
   ],
   "source": [
    "# 토크나이징\n",
    "okt = konlpy.tag.Okt()\n",
    "text = \"병원 병원은 멀어요. 그 그 그 \"\n",
    "morphs = okt.morphs(text)\n",
    "print(morphs)"
   ]
  },
  {
   "cell_type": "code",
   "execution_count": 38,
   "id": "7516f420",
   "metadata": {},
   "outputs": [
    {
     "name": "stdout",
     "output_type": "stream",
     "text": [
      "['병원', '병원', '멀어요', '그', '그', '그']\n"
     ]
    }
   ],
   "source": [
    "# 불용어 제거\n",
    "\n",
    "removed_stopwords = [ word for word in morphs if word not in stopwords ]\n",
    "\n",
    "print(removed_stopwords)"
   ]
  },
  {
   "cell_type": "code",
   "execution_count": 44,
   "id": "d38d5039",
   "metadata": {},
   "outputs": [
    {
     "name": "stdout",
     "output_type": "stream",
     "text": [
      "[('그', 2), ('병원', 1), ('멀어요', 0)]\n",
      "{'그': 2, '병원': 1}\n"
     ]
    }
   ],
   "source": [
    "# word_to_index\n",
    "sentence = remove_stopwords(morphs)\n",
    "\n",
    "words_limit = 2 #10_000\n",
    "word_to_index = {}\n",
    "\n",
    "for sentence in [sentence]:\n",
    "    for word in sentence:\n",
    "        if word_to_index.get(word) is not None:\n",
    "            word_to_index[word] += 1\n",
    "        else:\n",
    "            word_to_index[word] = 0\n",
    "\n",
    "word_to_index = sorted(word_to_index.items(), key=lambda item: item[1], reverse=True)\n",
    "print(word_to_index)\n",
    "word_to_index = dict(word_to_index[:words_limit])\n",
    "print(word_to_index)"
   ]
  },
  {
   "cell_type": "markdown",
   "id": "245b1fc5",
   "metadata": {},
   "source": [
    "## 회고\n",
    "* 배운 점\n",
    "  - 전체적인 처리 과정을 상세하게 학습할 수 있었다.\n",
    "* 아쉬운 점\n",
    "  - 하니씩 자세하게 보다보니 학습 시간내에는 프로젝트를 다 마무리 못해서 아쉬웠다. \n",
    "* 느낀 점\n",
    "  - 분류 이외 여러 태스크들을 진행해봐야겠다.\n",
    "* 어려웠던 점\n",
    "  - 각 내용의 상세한 구현 및 구조를 깊게 파악하는게 쉽지 않은 것 같다."
   ]
  }
 ],
 "metadata": {
  "kernelspec": {
   "display_name": "Python 3 (ipykernel)",
   "language": "python",
   "name": "python3"
  },
  "language_info": {
   "codemirror_mode": {
    "name": "ipython",
    "version": 3
   },
   "file_extension": ".py",
   "mimetype": "text/x-python",
   "name": "python",
   "nbconvert_exporter": "python",
   "pygments_lexer": "ipython3",
   "version": "3.9.7"
  }
 },
 "nbformat": 4,
 "nbformat_minor": 5
}
