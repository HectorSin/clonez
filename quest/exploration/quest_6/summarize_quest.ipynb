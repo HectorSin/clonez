{
 "cells": [
  {
   "cell_type": "markdown",
   "id": "d51a5b62",
   "metadata": {},
   "source": [
    "# 뉴스 기사 요약"
   ]
  },
  {
   "cell_type": "code",
   "execution_count": 29,
   "id": "fdb7a836",
   "metadata": {},
   "outputs": [
    {
     "name": "stdout",
     "output_type": "stream",
     "text": [
      "3.6.5\n",
      "2.6.0\n",
      "1.3.3\n",
      "1.2.0\n"
     ]
    }
   ],
   "source": [
    "from importlib.metadata import version\n",
    "import nltk\n",
    "import tensorflow\n",
    "import summa\n",
    "import pandas\n",
    "import pandas as pd\n",
    "from tqdm import tqdm\n",
    "import numpy as np\n",
    "\n",
    "print(nltk.__version__)\n",
    "print(tensorflow.__version__)\n",
    "print(pandas.__version__)\n",
    "print(version('summa'))"
   ]
  },
  {
   "cell_type": "markdown",
   "id": "4caf2c40",
   "metadata": {},
   "source": [
    "## 1. 데이터 수집"
   ]
  },
  {
   "cell_type": "code",
   "execution_count": 2,
   "id": "13ab9a8e",
   "metadata": {},
   "outputs": [],
   "source": [
    "import urllib.request\n",
    "urllib.request.urlretrieve(\"https://raw.githubusercontent.com/sunnysai12345/News_Summary/master/news_summary_more.csv\", filename=\"news_summary_more.csv\")\n",
    "data = pd.read_csv('news_summary_more.csv', encoding='iso-8859-1')"
   ]
  },
  {
   "cell_type": "code",
   "execution_count": 6,
   "id": "9e7bc2b2",
   "metadata": {},
   "outputs": [
    {
     "name": "stdout",
     "output_type": "stream",
     "text": [
      "(98401, 2)\n"
     ]
    },
    {
     "data": {
      "text/html": [
       "<div>\n",
       "<style scoped>\n",
       "    .dataframe tbody tr th:only-of-type {\n",
       "        vertical-align: middle;\n",
       "    }\n",
       "\n",
       "    .dataframe tbody tr th {\n",
       "        vertical-align: top;\n",
       "    }\n",
       "\n",
       "    .dataframe thead th {\n",
       "        text-align: right;\n",
       "    }\n",
       "</style>\n",
       "<table border=\"1\" class=\"dataframe\">\n",
       "  <thead>\n",
       "    <tr style=\"text-align: right;\">\n",
       "      <th></th>\n",
       "      <th>headlines</th>\n",
       "      <th>text</th>\n",
       "    </tr>\n",
       "  </thead>\n",
       "  <tbody>\n",
       "    <tr>\n",
       "      <th>0</th>\n",
       "      <td>upGrad learner switches to career in ML &amp; Al w...</td>\n",
       "      <td>Saurav Kant, an alumnus of upGrad and IIIT-B's...</td>\n",
       "    </tr>\n",
       "    <tr>\n",
       "      <th>1</th>\n",
       "      <td>Delhi techie wins free food from Swiggy for on...</td>\n",
       "      <td>Kunal Shah's credit card bill payment platform...</td>\n",
       "    </tr>\n",
       "    <tr>\n",
       "      <th>2</th>\n",
       "      <td>New Zealand end Rohit Sharma-led India's 12-ma...</td>\n",
       "      <td>New Zealand defeated India by 8 wickets in the...</td>\n",
       "    </tr>\n",
       "    <tr>\n",
       "      <th>3</th>\n",
       "      <td>Aegon life iTerm insurance plan helps customer...</td>\n",
       "      <td>With Aegon Life iTerm Insurance plan, customer...</td>\n",
       "    </tr>\n",
       "    <tr>\n",
       "      <th>4</th>\n",
       "      <td>Have known Hirani for yrs, what if MeToo claim...</td>\n",
       "      <td>Speaking about the sexual harassment allegatio...</td>\n",
       "    </tr>\n",
       "  </tbody>\n",
       "</table>\n",
       "</div>"
      ],
      "text/plain": [
       "                                           headlines  \\\n",
       "0  upGrad learner switches to career in ML & Al w...   \n",
       "1  Delhi techie wins free food from Swiggy for on...   \n",
       "2  New Zealand end Rohit Sharma-led India's 12-ma...   \n",
       "3  Aegon life iTerm insurance plan helps customer...   \n",
       "4  Have known Hirani for yrs, what if MeToo claim...   \n",
       "\n",
       "                                                text  \n",
       "0  Saurav Kant, an alumnus of upGrad and IIIT-B's...  \n",
       "1  Kunal Shah's credit card bill payment platform...  \n",
       "2  New Zealand defeated India by 8 wickets in the...  \n",
       "3  With Aegon Life iTerm Insurance plan, customer...  \n",
       "4  Speaking about the sexual harassment allegatio...  "
      ]
     },
     "execution_count": 6,
     "metadata": {},
     "output_type": "execute_result"
    }
   ],
   "source": [
    "print(data.shape)\n",
    "data.head()"
   ]
  },
  {
   "cell_type": "markdown",
   "id": "0a11f270",
   "metadata": {},
   "source": [
    "## 2. 데이터 전처리"
   ]
  },
  {
   "cell_type": "code",
   "execution_count": 8,
   "id": "5d4c88c7",
   "metadata": {},
   "outputs": [],
   "source": [
    "text, headlines = \"text\", \"headlines\""
   ]
  },
  {
   "cell_type": "code",
   "execution_count": 9,
   "id": "ee0804df",
   "metadata": {},
   "outputs": [
    {
     "name": "stdout",
     "output_type": "stream",
     "text": [
      "text : 98360\n",
      "headline : 98280\n"
     ]
    }
   ],
   "source": [
    "# 중복 데이터 확인\n",
    "\n",
    "print('text :', data[text].nunique())\n",
    "print('headline :', data[headlines].nunique())"
   ]
  },
  {
   "cell_type": "code",
   "execution_count": 10,
   "id": "e25a0469",
   "metadata": {},
   "outputs": [
    {
     "name": "stdout",
     "output_type": "stream",
     "text": [
      "전체 샘플 수 98360\n"
     ]
    }
   ],
   "source": [
    "# 중복 데이터 제거\n",
    "\n",
    "data.drop_duplicates(subset=text, inplace=True)\n",
    "print(\"전체 샘플 수\", len(data))"
   ]
  },
  {
   "cell_type": "code",
   "execution_count": 11,
   "id": "96f50d89",
   "metadata": {},
   "outputs": [
    {
     "data": {
      "text/plain": [
       "headlines    0\n",
       "text         0\n",
       "dtype: int64"
      ]
     },
     "execution_count": 11,
     "metadata": {},
     "output_type": "execute_result"
    }
   ],
   "source": [
    "# 결측치 확인\n",
    "\n",
    "data.isnull().sum() "
   ]
  },
  {
   "cell_type": "code",
   "execution_count": 12,
   "id": "2dca5555",
   "metadata": {},
   "outputs": [
    {
     "name": "stdout",
     "output_type": "stream",
     "text": [
      "정규화 사전의 수:  120\n"
     ]
    }
   ],
   "source": [
    "# 사전 정의 정규화 사전\n",
    "\n",
    "contractions = {\"ain't\": \"is not\", \"aren't\": \"are not\",\"can't\": \"cannot\", \"'cause\": \"because\", \"could've\": \"could have\", \"couldn't\": \"could not\",\n",
    "                   \"didn't\": \"did not\",  \"doesn't\": \"does not\", \"don't\": \"do not\", \"hadn't\": \"had not\", \"hasn't\": \"has not\", \"haven't\": \"have not\",\n",
    "                   \"he'd\": \"he would\",\"he'll\": \"he will\", \"he's\": \"he is\", \"how'd\": \"how did\", \"how'd'y\": \"how do you\", \"how'll\": \"how will\", \"how's\": \"how is\",\n",
    "                   \"I'd\": \"I would\", \"I'd've\": \"I would have\", \"I'll\": \"I will\", \"I'll've\": \"I will have\",\"I'm\": \"I am\", \"I've\": \"I have\", \"i'd\": \"i would\",\n",
    "                   \"i'd've\": \"i would have\", \"i'll\": \"i will\",  \"i'll've\": \"i will have\",\"i'm\": \"i am\", \"i've\": \"i have\", \"isn't\": \"is not\", \"it'd\": \"it would\",\n",
    "                   \"it'd've\": \"it would have\", \"it'll\": \"it will\", \"it'll've\": \"it will have\",\"it's\": \"it is\", \"let's\": \"let us\", \"ma'am\": \"madam\",\n",
    "                   \"mayn't\": \"may not\", \"might've\": \"might have\",\"mightn't\": \"might not\",\"mightn't've\": \"might not have\", \"must've\": \"must have\",\n",
    "                   \"mustn't\": \"must not\", \"mustn't've\": \"must not have\", \"needn't\": \"need not\", \"needn't've\": \"need not have\",\"o'clock\": \"of the clock\",\n",
    "                   \"oughtn't\": \"ought not\", \"oughtn't've\": \"ought not have\", \"shan't\": \"shall not\", \"sha'n't\": \"shall not\", \"shan't've\": \"shall not have\",\n",
    "                   \"she'd\": \"she would\", \"she'd've\": \"she would have\", \"she'll\": \"she will\", \"she'll've\": \"she will have\", \"she's\": \"she is\",\n",
    "                   \"should've\": \"should have\", \"shouldn't\": \"should not\", \"shouldn't've\": \"should not have\", \"so've\": \"so have\",\"so's\": \"so as\",\n",
    "                   \"this's\": \"this is\",\"that'd\": \"that would\", \"that'd've\": \"that would have\", \"that's\": \"that is\", \"there'd\": \"there would\",\n",
    "                   \"there'd've\": \"there would have\", \"there's\": \"there is\", \"here's\": \"here is\",\"they'd\": \"they would\", \"they'd've\": \"they would have\",\n",
    "                   \"they'll\": \"they will\", \"they'll've\": \"they will have\", \"they're\": \"they are\", \"they've\": \"they have\", \"to've\": \"to have\",\n",
    "                   \"wasn't\": \"was not\", \"we'd\": \"we would\", \"we'd've\": \"we would have\", \"we'll\": \"we will\", \"we'll've\": \"we will have\", \"we're\": \"we are\",\n",
    "                   \"we've\": \"we have\", \"weren't\": \"were not\", \"what'll\": \"what will\", \"what'll've\": \"what will have\", \"what're\": \"what are\",\n",
    "                   \"what's\": \"what is\", \"what've\": \"what have\", \"when's\": \"when is\", \"when've\": \"when have\", \"where'd\": \"where did\", \"where's\": \"where is\",\n",
    "                   \"where've\": \"where have\", \"who'll\": \"who will\", \"who'll've\": \"who will have\", \"who's\": \"who is\", \"who've\": \"who have\",\n",
    "                   \"why's\": \"why is\", \"why've\": \"why have\", \"will've\": \"will have\", \"won't\": \"will not\", \"won't've\": \"will not have\",\n",
    "                   \"would've\": \"would have\", \"wouldn't\": \"would not\", \"wouldn't've\": \"would not have\", \"y'all\": \"you all\",\n",
    "                   \"y'all'd\": \"you all would\",\"y'all'd've\": \"you all would have\",\"y'all're\": \"you all are\",\"y'all've\": \"you all have\",\n",
    "                   \"you'd\": \"you would\", \"you'd've\": \"you would have\", \"you'll\": \"you will\", \"you'll've\": \"you will have\",\n",
    "                   \"you're\": \"you are\", \"you've\": \"you have\"}\n",
    "\n",
    "print(\"정규화 사전의 수: \", len(contractions))"
   ]
  },
  {
   "cell_type": "code",
   "execution_count": 18,
   "id": "f5aca53c",
   "metadata": {},
   "outputs": [
    {
     "name": "stdout",
     "output_type": "stream",
     "text": [
      "불용어 개수 : 179\n"
     ]
    }
   ],
   "source": [
    "# 불용어 데이터\n",
    "\n",
    "import nltk\n",
    "# nltk.download('stopwords')\n",
    "from nltk.corpus import stopwords\n",
    "\n",
    "print('불용어 개수 :', len(stopwords.words('english') ))"
   ]
  },
  {
   "cell_type": "code",
   "execution_count": 22,
   "id": "3cabe12d",
   "metadata": {},
   "outputs": [],
   "source": [
    "# 데이터 전처리 함수\n",
    "\n",
    "from bs4 import BeautifulSoup\n",
    "import re\n",
    "\n",
    "def preprocess_sentence(sentence, remove_stopwords=True):\n",
    "    sentence = sentence.lower() # 텍스트 소문자화\n",
    "    sentence = BeautifulSoup(sentence, \"lxml\").text # <br />, <a href = ...> 등의 html 태그 제거\n",
    "    sentence = re.sub(r'\\([^)]*\\)', '', sentence) # 괄호로 닫힌 문자열 (...) 제거 Ex) my husband (and myself!) for => my husband for\n",
    "    sentence = re.sub('\"','', sentence) # 쌍따옴표 \" 제거\n",
    "    sentence = ' '.join([contractions[t] if t in contractions else t for t in sentence.split(\" \")]) # 약어 정규화\n",
    "    sentence = re.sub(r\"'s\\b\",\"\", sentence) # 소유격 제거. Ex) roland's -> roland\n",
    "    sentence = re.sub(\"[^a-zA-Z]\", \" \", sentence) # 영어 외 문자(숫자, 특수문자 등) 공백으로 변환\n",
    "    sentence = re.sub('[m]{2,}', 'mm', sentence) # m이 3개 이상이면 2개로 변경. Ex) ummmmmmm yeah -> umm yeah\n",
    "    \n",
    "    # 불용어 제거 (Text)\n",
    "    if remove_stopwords:\n",
    "        tokens = ' '.join(word for word in sentence.split() if not word in stopwords.words('english') if len(word) > 1)\n",
    "    # 불용어 미제거 (Summary)\n",
    "    else:\n",
    "        tokens = ' '.join(word for word in sentence.split() if len(word) > 1)\n",
    "    return tokens"
   ]
  },
  {
   "cell_type": "code",
   "execution_count": 27,
   "id": "31e9b486",
   "metadata": {},
   "outputs": [
    {
     "name": "stderr",
     "output_type": "stream",
     "text": [
      "inprogress: 98360it [10:14, 159.95it/s]\n"
     ]
    }
   ],
   "source": [
    "# 텍스트 전처리 적용\n",
    "\n",
    "clean_text, clean_summary = [], []\n",
    "for _, rows in tqdm(data.iterrows(), desc=\"inprogress\"):\n",
    "    clean_text.append(preprocess_sentence(rows[text]))\n",
    "    clean_summary.append(preprocess_sentence(rows[headlines], False))"
   ]
  },
  {
   "cell_type": "code",
   "execution_count": 30,
   "id": "d66ac09d",
   "metadata": {},
   "outputs": [
    {
     "name": "stdout",
     "output_type": "stream",
     "text": [
      "headlines    0\n",
      "text         0\n",
      "dtype: int64\n",
      "headlines    0\n",
      "text         0\n",
      "dtype: int64\n"
     ]
    }
   ],
   "source": [
    "# 전처리 후 데이터 재 확인\n",
    "\n",
    "data[text] = clean_text\n",
    "data[headlines] = clean_summary\n",
    "\n",
    "print(data.isnull().sum())\n",
    "data.replace(\"\", np.nan, inplace=True)\n",
    "print(data.isnull().sum())"
   ]
  },
  {
   "cell_type": "code",
   "execution_count": 31,
   "id": "ec090103",
   "metadata": {},
   "outputs": [
    {
     "name": "stdout",
     "output_type": "stream",
     "text": [
      "98360\n"
     ]
    }
   ],
   "source": [
    "# 최종 데이터 수\n",
    "\n",
    "print(len(data))"
   ]
  },
  {
   "cell_type": "code",
   "execution_count": 33,
   "id": "51901580",
   "metadata": {},
   "outputs": [
    {
     "name": "stdout",
     "output_type": "stream",
     "text": [
      "텍스트의 최소 길이 : 1\n",
      "텍스트의 최대 길이 : 60\n",
      "텍스트의 평균 길이 : 35.09968483123221\n",
      "요약의 최소 길이 : 1\n",
      "요약의 최대 길이 : 16\n",
      "요약의 평균 길이 : 9.299532330215534\n"
     ]
    }
   ],
   "source": [
    "# 텍스트 길이 분포 출력\n",
    "\n",
    "import matplotlib.pyplot as plt\n",
    "\n",
    "text_len = [len(s.split()) for s in data[text]]\n",
    "summary_len = [len(s.split()) for s in data[headlines]]\n",
    "\n",
    "print('텍스트의 최소 길이 : {}'.format(np.min(text_len)))\n",
    "print('텍스트의 최대 길이 : {}'.format(np.max(text_len)))\n",
    "print('텍스트의 평균 길이 : {}'.format(np.mean(text_len)))\n",
    "print('요약의 최소 길이 : {}'.format(np.min(summary_len)))\n",
    "print('요약의 최대 길이 : {}'.format(np.max(summary_len)))\n",
    "print('요약의 평균 길이 : {}'.format(np.mean(summary_len)))"
   ]
  },
  {
   "cell_type": "code",
   "execution_count": 34,
   "id": "dafe541e",
   "metadata": {},
   "outputs": [
    {
     "data": {
      "image/png": "[encoded data removed]",
      "text/plain": [
       "<Figure size 432x288 with 2 Axes>"
      ]
     },
     "metadata": {
      "needs_background": "light"
     },
     "output_type": "display_data"
    },
    {
     "data": {
      "image/png": "[encoded data removed]",
      "text/plain": [
       "<Figure size 432x288 with 1 Axes>"
      ]
     },
     "metadata": {
      "needs_background": "light"
     },
     "output_type": "display_data"
    },
    {
     "data": {
      "image/png": "[encoded data removed]",
      "text/plain": [
       "<Figure size 432x288 with 1 Axes>"
      ]
     },
     "metadata": {
      "needs_background": "light"
     },
     "output_type": "display_data"
    }
   ],
   "source": [
    "# 분포 시각화\n",
    "\n",
    "plt.subplot(1,2,1)\n",
    "plt.boxplot(text_len)\n",
    "plt.title('Text')\n",
    "plt.subplot(1,2,2)\n",
    "plt.boxplot(summary_len)\n",
    "plt.title('Summary')\n",
    "plt.tight_layout()\n",
    "plt.show()\n",
    "\n",
    "plt.title('Text')\n",
    "plt.hist(text_len, bins = 40)\n",
    "plt.xlabel('length of samples')\n",
    "plt.ylabel('number of samples')\n",
    "plt.show()\n",
    "\n",
    "plt.title('Summary')\n",
    "plt.hist(summary_len, bins = 40)\n",
    "plt.xlabel('length of samples')\n",
    "plt.ylabel('number of samples')\n",
    "plt.show()"
   ]
  },
  {
   "cell_type": "code",
   "execution_count": 35,
   "id": "13dba9e1",
   "metadata": {},
   "outputs": [],
   "source": [
    "# max 길이 설정\n",
    "\n",
    "text_max_len = 60\n",
    "summary_max_len = 16"
   ]
  },
  {
   "cell_type": "code",
   "execution_count": 37,
   "id": "6107b349",
   "metadata": {},
   "outputs": [
    {
     "name": "stdout",
     "output_type": "stream",
     "text": [
      "전체 샘플 중 길이가 60 이하인 샘플의 비율: 1.0\n",
      "전체 샘플 중 길이가 16 이하인 샘플의 비율: 1.0\n"
     ]
    }
   ],
   "source": [
    "# 설정 길이에 대한 샘플 비율 확인\n",
    "\n",
    "def below_threshold_len(max_len, nested_list):\n",
    "  cnt = 0\n",
    "  for s in nested_list:\n",
    "    if(len(s.split()) <= max_len):\n",
    "        cnt = cnt + 1\n",
    "  print('전체 샘플 중 길이가 %s 이하인 샘플의 비율: %s'%(max_len, (cnt / len(nested_list))))\n",
    "\n",
    "below_threshold_len(text_max_len, data[text])\n",
    "below_threshold_len(summary_max_len, data[headlines])"
   ]
  },
  {
   "cell_type": "code",
   "execution_count": 38,
   "id": "518c1b83",
   "metadata": {},
   "outputs": [
    {
     "name": "stdout",
     "output_type": "stream",
     "text": [
      "max 길이 이하 샘플 수 98360\n"
     ]
    }
   ],
   "source": [
    "# 정해진 길이보다 길 경우 제거\n",
    "\n",
    "is_less_max = data.apply(lambda row: len(row[text].split()) <= text_max_len, \n",
    "                         axis=\"columns\")\n",
    "print(\"max 길이 이하 샘플 수\", is_less_max.sum())"
   ]
  },
  {
   "cell_type": "code",
   "execution_count": 39,
   "id": "f6b49a4b",
   "metadata": {},
   "outputs": [
    {
     "name": "stdout",
     "output_type": "stream",
     "text": [
      "전체 샘플 수 98360\n"
     ]
    }
   ],
   "source": [
    "#전체 샘플 수 출력\n",
    "\n",
    "data = data[is_less_max]\n",
    "print(\"전체 샘플 수\", len(data))"
   ]
  },
  {
   "cell_type": "code",
   "execution_count": 40,
   "id": "948e18c9",
   "metadata": {},
   "outputs": [
    {
     "data": {
      "text/html": [
       "<div>\n",
       "<style scoped>\n",
       "    .dataframe tbody tr th:only-of-type {\n",
       "        vertical-align: middle;\n",
       "    }\n",
       "\n",
       "    .dataframe tbody tr th {\n",
       "        vertical-align: top;\n",
       "    }\n",
       "\n",
       "    .dataframe thead th {\n",
       "        text-align: right;\n",
       "    }\n",
       "</style>\n",
       "<table border=\"1\" class=\"dataframe\">\n",
       "  <thead>\n",
       "    <tr style=\"text-align: right;\">\n",
       "      <th></th>\n",
       "      <th>headlines</th>\n",
       "      <th>text</th>\n",
       "      <th>decoder_input</th>\n",
       "      <th>decoder_target</th>\n",
       "    </tr>\n",
       "  </thead>\n",
       "  <tbody>\n",
       "    <tr>\n",
       "      <th>0</th>\n",
       "      <td>upgrad learner switches to career in ml al wit...</td>\n",
       "      <td>saurav kant alumnus upgrad iiit pg program mac...</td>\n",
       "      <td>sostoken upgrad learner switches to career in ...</td>\n",
       "      <td>upgrad learner switches to career in ml al wit...</td>\n",
       "    </tr>\n",
       "    <tr>\n",
       "      <th>1</th>\n",
       "      <td>delhi techie wins free food from swiggy for on...</td>\n",
       "      <td>kunal shah credit card bill payment platform c...</td>\n",
       "      <td>sostoken delhi techie wins free food from swig...</td>\n",
       "      <td>delhi techie wins free food from swiggy for on...</td>\n",
       "    </tr>\n",
       "    <tr>\n",
       "      <th>2</th>\n",
       "      <td>new zealand end rohit sharma led india match w...</td>\n",
       "      <td>new zealand defeated india wickets fourth odi ...</td>\n",
       "      <td>sostoken new zealand end rohit sharma led indi...</td>\n",
       "      <td>new zealand end rohit sharma led india match w...</td>\n",
       "    </tr>\n",
       "    <tr>\n",
       "      <th>3</th>\n",
       "      <td>aegon life iterm insurance plan helps customer...</td>\n",
       "      <td>aegon life iterm insurance plan customers enjo...</td>\n",
       "      <td>sostoken aegon life iterm insurance plan helps...</td>\n",
       "      <td>aegon life iterm insurance plan helps customer...</td>\n",
       "    </tr>\n",
       "    <tr>\n",
       "      <th>4</th>\n",
       "      <td>have known hirani for yrs what if metoo claims...</td>\n",
       "      <td>speaking sexual harassment allegations rajkuma...</td>\n",
       "      <td>sostoken have known hirani for yrs what if met...</td>\n",
       "      <td>have known hirani for yrs what if metoo claims...</td>\n",
       "    </tr>\n",
       "  </tbody>\n",
       "</table>\n",
       "</div>"
      ],
      "text/plain": [
       "                                           headlines  \\\n",
       "0  upgrad learner switches to career in ml al wit...   \n",
       "1  delhi techie wins free food from swiggy for on...   \n",
       "2  new zealand end rohit sharma led india match w...   \n",
       "3  aegon life iterm insurance plan helps customer...   \n",
       "4  have known hirani for yrs what if metoo claims...   \n",
       "\n",
       "                                                text  \\\n",
       "0  saurav kant alumnus upgrad iiit pg program mac...   \n",
       "1  kunal shah credit card bill payment platform c...   \n",
       "2  new zealand defeated india wickets fourth odi ...   \n",
       "3  aegon life iterm insurance plan customers enjo...   \n",
       "4  speaking sexual harassment allegations rajkuma...   \n",
       "\n",
       "                                       decoder_input  \\\n",
       "0  sostoken upgrad learner switches to career in ...   \n",
       "1  sostoken delhi techie wins free food from swig...   \n",
       "2  sostoken new zealand end rohit sharma led indi...   \n",
       "3  sostoken aegon life iterm insurance plan helps...   \n",
       "4  sostoken have known hirani for yrs what if met...   \n",
       "\n",
       "                                      decoder_target  \n",
       "0  upgrad learner switches to career in ml al wit...  \n",
       "1  delhi techie wins free food from swiggy for on...  \n",
       "2  new zealand end rohit sharma led india match w...  \n",
       "3  aegon life iterm insurance plan helps customer...  \n",
       "4  have known hirani for yrs what if metoo claims...  "
      ]
     },
     "execution_count": 40,
     "metadata": {},
     "output_type": "execute_result"
    }
   ],
   "source": [
    "# 요약 데이터에는 시작 토큰과 종료 토큰을 추가\n",
    "\n",
    "data['decoder_input'] = data[headlines].apply(lambda x : 'sostoken '+ x)\n",
    "data['decoder_target'] = data[headlines].apply(lambda x : x + ' eostoken')\n",
    "data.head()"
   ]
  },
  {
   "cell_type": "code",
   "execution_count": 51,
   "id": "fad688df",
   "metadata": {},
   "outputs": [],
   "source": [
    "# encoder, decoder input 데이터 \n",
    "\n",
    "encoder_input = np.array(data[text]) # 인코더의 입력\n",
    "decoder_input = np.array(data['decoder_input']) # 디코더의 입력\n",
    "decoder_target = np.array(data['decoder_target']) # 디코더의 레이블"
   ]
  },
  {
   "cell_type": "markdown",
   "id": "b355c0ff",
   "metadata": {},
   "source": [
    "train test 분리"
   ]
  },
  {
   "cell_type": "code",
   "execution_count": 52,
   "id": "443f9387",
   "metadata": {},
   "outputs": [
    {
     "name": "stdout",
     "output_type": "stream",
     "text": [
      "[96976 74727 19179 ...  6950 74057 48072]\n",
      "테스트 데이터의 수 : 19672\n"
     ]
    }
   ],
   "source": [
    "# 인덱스 셔플\n",
    "indices = np.arange(encoder_input.shape[0])\n",
    "np.random.shuffle(indices)\n",
    "print(indices)\n",
    "\n",
    "# 랜덤 인덱싱\n",
    "encoder_input = encoder_input[indices]\n",
    "decoder_input = decoder_input[indices]\n",
    "decoder_target = decoder_target[indices]\n",
    "\n",
    "# 테스트 데이터셋 계산\n",
    "n_of_val = int(len(encoder_input)*0.2)\n",
    "print('테스트 데이터의 수 :', n_of_val)"
   ]
  },
  {
   "cell_type": "code",
   "execution_count": 53,
   "id": "3349fa64",
   "metadata": {},
   "outputs": [
    {
     "name": "stdout",
     "output_type": "stream",
     "text": [
      "훈련 데이터의 개수 : 78688\n",
      "훈련 레이블의 개수 : 78688\n",
      "테스트 데이터의 개수 : 19672\n",
      "테스트 레이블의 개수 : 19672\n"
     ]
    }
   ],
   "source": [
    "# train, test 인덱싱\n",
    "\n",
    "encoder_input_train = encoder_input[:-n_of_val]\n",
    "decoder_input_train = decoder_input[:-n_of_val]\n",
    "decoder_target_train = decoder_target[:-n_of_val]\n",
    "\n",
    "encoder_input_test = encoder_input[-n_of_val:]\n",
    "decoder_input_test = decoder_input[-n_of_val:]\n",
    "decoder_target_test = decoder_target[-n_of_val:]\n",
    "\n",
    "print('훈련 데이터의 개수 :', len(encoder_input_train))\n",
    "print('훈련 레이블의 개수 :', len(decoder_input_train))\n",
    "print('테스트 데이터의 개수 :', len(encoder_input_test))\n",
    "print('테스트 레이블의 개수 :', len(decoder_input_test))"
   ]
  },
  {
   "cell_type": "markdown",
   "id": "b87240d5",
   "metadata": {},
   "source": [
    "단어 집합 생성"
   ]
  },
  {
   "cell_type": "code",
   "execution_count": 45,
   "id": "9359de0a",
   "metadata": {},
   "outputs": [],
   "source": [
    "# 토크나이징\n",
    "\n",
    "from tensorflow.keras.preprocessing.text import Tokenizer\n",
    "\n",
    "src_tokenizer = Tokenizer()\n",
    "src_tokenizer.fit_on_texts(encoder_input_train)"
   ]
  },
  {
   "cell_type": "markdown",
   "id": "0bdfef24",
   "metadata": {},
   "source": [
    "빈도 수가 낮은 데이터 확인"
   ]
  },
  {
   "cell_type": "code",
   "execution_count": 47,
   "id": "f5b00d3d",
   "metadata": {},
   "outputs": [
    {
     "name": "stdout",
     "output_type": "stream",
     "text": [
      "단어 집합(vocabulary)의 크기 : 69618\n",
      "등장 빈도가 6번 이하인 희귀 단어의 수: 47460\n",
      "단어 집합에서 희귀 단어를 제외시킬 경우의 단어 집합의 크기 22158\n",
      "단어 집합에서 희귀 단어의 비율: 68.1720244764285\n",
      "전체 등장 빈도에서 희귀 단어 등장 빈도 비율: 3.4838164331688155\n"
     ]
    }
   ],
   "source": [
    "# threshold를 정해 빈도 수가 낮은 단어 확인\n",
    "\n",
    "threshold = 7\n",
    "total_cnt = len(src_tokenizer.word_index)\n",
    "rare_cnt = 0\n",
    "total_freq = 0\n",
    "rare_freq = 0\n",
    "\n",
    "for key, value in src_tokenizer.word_counts.items():\n",
    "    \n",
    "    total_freq += value\n",
    "    \n",
    "    if value < threshold:\n",
    "        rare_cnt += 1\n",
    "        rare_freq += value\n",
    "        \n",
    "print('단어 집합(vocabulary)의 크기 :', total_cnt)\n",
    "print('등장 빈도가 %s번 이하인 희귀 단어의 수: %s'%(threshold - 1, rare_cnt))\n",
    "print('단어 집합에서 희귀 단어를 제외시킬 경우의 단어 집합의 크기 %s'%(total_cnt - rare_cnt))\n",
    "print(\"단어 집합에서 희귀 단어의 비율:\", (rare_cnt / total_cnt)*100)\n",
    "print(\"전체 등장 빈도에서 희귀 단어 등장 빈도 비율:\", (rare_freq / total_freq)*100)"
   ]
  },
  {
   "cell_type": "code",
   "execution_count": 48,
   "id": "ab3a1e3e",
   "metadata": {},
   "outputs": [],
   "source": [
    "# 빈도수가 낮은 단어 제거\n",
    "\n",
    "src_vocab = 22_000\n",
    "src_tokenizer = Tokenizer(num_words=src_vocab)\n",
    "src_tokenizer.fit_on_texts(encoder_input_train)"
   ]
  },
  {
   "cell_type": "code",
   "execution_count": 54,
   "id": "e28fb6d0",
   "metadata": {},
   "outputs": [],
   "source": [
    "# 텍스트를 정수 시퀀스로 변환\n",
    "\n",
    "from tensorflow.keras.preprocessing.sequence import pad_sequences\n",
    "\n",
    "encoder_input_train = src_tokenizer.texts_to_sequences(encoder_input_train)\n",
    "encoder_input_test = src_tokenizer.texts_to_sequences(encoder_input_test)"
   ]
  },
  {
   "cell_type": "code",
   "execution_count": 55,
   "id": "0683a3c1",
   "metadata": {},
   "outputs": [],
   "source": [
    "# headline를 정수 시퀀스로 변환\n",
    "\n",
    "tar_tokenizer = Tokenizer()\n",
    "tar_tokenizer.fit_on_texts(decoder_input_train)"
   ]
  },
  {
   "cell_type": "code",
   "execution_count": 56,
   "id": "d112c097",
   "metadata": {},
   "outputs": [
    {
     "name": "stdout",
     "output_type": "stream",
     "text": [
      "단어 집합(vocabulary)의 크기 : 30062\n",
      "등장 빈도가 5번 이하인 희귀 단어의 수: 19608\n",
      "단어 집합에서 희귀 단어를 제외시킬 경우의 단어 집합의 크기 10454\n",
      "단어 집합에서 희귀 단어의 비율: 65.22520125074846\n",
      "전체 등장 빈도에서 희귀 단어 등장 빈도 비율: 4.62786194777196\n"
     ]
    }
   ],
   "source": [
    "# headline 단어 빈도 수 확인\n",
    "\n",
    "threshold = 6\n",
    "total_cnt = len(tar_tokenizer.word_index) # 단어의 수\n",
    "rare_cnt = 0\n",
    "total_freq = 0\n",
    "rare_freq = 0\n",
    "\n",
    "for key, value in tar_tokenizer.word_counts.items():\n",
    "    total_freq = total_freq + value\n",
    "\n",
    "    if(value < threshold):\n",
    "        rare_cnt = rare_cnt + 1\n",
    "        rare_freq = rare_freq + value\n",
    "\n",
    "print('단어 집합(vocabulary)의 크기 :', total_cnt)\n",
    "print('등장 빈도가 %s번 이하인 희귀 단어의 수: %s'%(threshold - 1, rare_cnt))\n",
    "print('단어 집합에서 희귀 단어를 제외시킬 경우의 단어 집합의 크기 %s'%(total_cnt - rare_cnt))\n",
    "print(\"단어 집합에서 희귀 단어의 비율:\", (rare_cnt / total_cnt)*100)\n",
    "print(\"전체 등장 빈도에서 희귀 단어 등장 빈도 비율:\", (rare_freq / total_freq)*100)"
   ]
  },
  {
   "cell_type": "code",
   "execution_count": 57,
   "id": "5053b7bc",
   "metadata": {},
   "outputs": [],
   "source": [
    "# 적은 빈도 수 단어 제거\n",
    "\n",
    "tar_vocab = 10_400\n",
    "tar_tokenizer = Tokenizer(num_words=tar_vocab) \n",
    "tar_tokenizer.fit_on_texts(decoder_input_train)\n",
    "tar_tokenizer.fit_on_texts(decoder_target_train)"
   ]
  },
  {
   "cell_type": "code",
   "execution_count": 58,
   "id": "3248854e",
   "metadata": {},
   "outputs": [],
   "source": [
    "# 정수 시퀀스로 변환\n",
    "\n",
    "decoder_input_train = tar_tokenizer.texts_to_sequences(decoder_input_train) \n",
    "decoder_target_train = tar_tokenizer.texts_to_sequences(decoder_target_train)\n",
    "decoder_input_test = tar_tokenizer.texts_to_sequences(decoder_input_test)\n",
    "decoder_target_test = tar_tokenizer.texts_to_sequences(decoder_target_test)"
   ]
  },
  {
   "cell_type": "code",
   "execution_count": 59,
   "id": "6c879af5",
   "metadata": {},
   "outputs": [
    {
     "name": "stdout",
     "output_type": "stream",
     "text": [
      "삭제할 훈련 데이터의 개수 : 0\n",
      "삭제할 테스트 데이터의 개수 : 0\n",
      "훈련 데이터의 개수 : 78688\n",
      "훈련 레이블의 개수 : 78688\n",
      "테스트 데이터의 개수 : 19672\n",
      "테스트 레이블의 개수 : 19672\n"
     ]
    }
   ],
   "source": [
    "# 단어 처리 후 텍스트 데이터 길이 확인, decoder input 이 1인 데이터 제거\n",
    "\n",
    "drop_train = [index for index, sentence in enumerate(decoder_input_train) if len(sentence) == 1]\n",
    "drop_test = [index for index, sentence in enumerate(decoder_input_test) if len(sentence) == 1]\n",
    "\n",
    "print('삭제할 훈련 데이터의 개수 :', len(drop_train))\n",
    "print('삭제할 테스트 데이터의 개수 :', len(drop_test))\n",
    "\n",
    "encoder_input_train = [sentence for index, sentence in enumerate(encoder_input_train) if index not in drop_train]\n",
    "decoder_input_train = [sentence for index, sentence in enumerate(decoder_input_train) if index not in drop_train]\n",
    "decoder_target_train = [sentence for index, sentence in enumerate(decoder_target_train) if index not in drop_train]\n",
    "\n",
    "encoder_input_test = [sentence for index, sentence in enumerate(encoder_input_test) if index not in drop_test]\n",
    "decoder_input_test = [sentence for index, sentence in enumerate(decoder_input_test) if index not in drop_test]\n",
    "decoder_target_test = [sentence for index, sentence in enumerate(decoder_target_test) if index not in drop_test]\n",
    "\n",
    "print('훈련 데이터의 개수 :', len(encoder_input_train))\n",
    "print('훈련 레이블의 개수 :', len(decoder_input_train))\n",
    "print('테스트 데이터의 개수 :', len(encoder_input_test))\n",
    "print('테스트 레이블의 개수 :', len(decoder_input_test))"
   ]
  },
  {
   "cell_type": "code",
   "execution_count": 60,
   "id": "71f1d0a5",
   "metadata": {},
   "outputs": [],
   "source": [
    "# 최종 텍스트 패딩\n",
    "\n",
    "encoder_input_train = pad_sequences(encoder_input_train, maxlen=text_max_len, padding='post')\n",
    "encoder_input_test = pad_sequences(encoder_input_test, maxlen=text_max_len, padding='post')\n",
    "decoder_input_train = pad_sequences(decoder_input_train, maxlen=summary_max_len, padding='post')\n",
    "decoder_target_train = pad_sequences(decoder_target_train, maxlen=summary_max_len, padding='post')\n",
    "decoder_input_test = pad_sequences(decoder_input_test, maxlen=summary_max_len, padding='post')\n",
    "decoder_target_test = pad_sequences(decoder_target_test, maxlen=summary_max_len, padding='post')"
   ]
  },
  {
   "cell_type": "markdown",
   "id": "246440c6",
   "metadata": {},
   "source": [
    "## 3. 어텐션 메커니즘 사용"
   ]
  },
  {
   "cell_type": "markdown",
   "id": "302593a4",
   "metadata": {},
   "source": [
    "1) 인코더 설계"
   ]
  },
  {
   "cell_type": "code",
   "execution_count": 65,
   "id": "bb229134",
   "metadata": {},
   "outputs": [],
   "source": [
    "from tensorflow.keras.layers import Input, LSTM, Embedding, Dense, Concatenate, TimeDistributed\n",
    "from tensorflow.keras.models import Model\n",
    "from tensorflow.keras.callbacks import EarlyStopping, ModelCheckpoint\n",
    "\n",
    "embedding_dim = 128\n",
    "hidden_size = 256\n",
    "\n",
    "# 인코더\n",
    "encoder_inputs = Input(shape=(text_max_len,))\n",
    "\n",
    "# Embedding\n",
    "enc_emb = Embedding(src_vocab, embedding_dim)(encoder_inputs)\n",
    "\n",
    "# LSTM 1\n",
    "encoder_lstm1 = LSTM(hidden_size, return_sequences=True, return_state=True , dropout=0.4) # recurrent_dropout=0.4\n",
    "encoder_output1, _, _ = encoder_lstm1(enc_emb)\n",
    "\n",
    "# LSTM 2\n",
    "encoder_lstm2 = LSTM(hidden_size, return_sequences=True, return_state=True , dropout=0.4) # recurrent_dropout=0.4\n",
    "encoder_output2, _, _ = encoder_lstm2(encoder_output1)\n",
    "\n",
    "# LSTM 3\n",
    "encoder_lstm2 = LSTM(hidden_size, return_sequences=True, return_state=True , dropout=0.4) # recurrent_dropout=0.4\n",
    "encoder_output, encoder_state_h, encoder_state_c = encoder_lstm2(encoder_output2)"
   ]
  },
  {
   "cell_type": "markdown",
   "id": "59424a2b",
   "metadata": {},
   "source": [
    "2) 디코더 설계"
   ]
  },
  {
   "cell_type": "code",
   "execution_count": 66,
   "id": "a65fe914",
   "metadata": {},
   "outputs": [
    {
     "name": "stdout",
     "output_type": "stream",
     "text": [
      "Model: \"model_1\"\n",
      "__________________________________________________________________________________________________\n",
      "Layer (type)                    Output Shape         Param #     Connected to                     \n",
      "==================================================================================================\n",
      "input_5 (InputLayer)            [(None, 60)]         0                                            \n",
      "__________________________________________________________________________________________________\n",
      "embedding_4 (Embedding)         (None, 60, 128)      2816000     input_5[0][0]                    \n",
      "__________________________________________________________________________________________________\n",
      "lstm_8 (LSTM)                   [(None, 60, 256), (N 394240      embedding_4[0][0]                \n",
      "__________________________________________________________________________________________________\n",
      "input_6 (InputLayer)            [(None, None)]       0                                            \n",
      "__________________________________________________________________________________________________\n",
      "lstm_9 (LSTM)                   [(None, 60, 256), (N 525312      lstm_8[0][0]                     \n",
      "__________________________________________________________________________________________________\n",
      "embedding_5 (Embedding)         (None, None, 128)    1331200     input_6[0][0]                    \n",
      "__________________________________________________________________________________________________\n",
      "lstm_10 (LSTM)                  [(None, 60, 256), (N 525312      lstm_9[0][0]                     \n",
      "__________________________________________________________________________________________________\n",
      "lstm_11 (LSTM)                  [(None, None, 256),  394240      embedding_5[0][0]                \n",
      "                                                                 lstm_10[0][1]                    \n",
      "                                                                 lstm_10[0][2]                    \n",
      "__________________________________________________________________________________________________\n",
      "dense_1 (Dense)                 (None, None, 10400)  2672800     lstm_11[0][0]                    \n",
      "==================================================================================================\n",
      "Total params: 8,659,104\n",
      "Trainable params: 8,659,104\n",
      "Non-trainable params: 0\n",
      "__________________________________________________________________________________________________\n"
     ]
    }
   ],
   "source": [
    "decoder_inputs = Input(shape=(None,))\n",
    "\n",
    "# Embedding\n",
    "dec_emb_layer = Embedding(tar_vocab, embedding_dim)\n",
    "dec_emb = dec_emb_layer(decoder_inputs)\n",
    "\n",
    "# LSTM\n",
    "decoder_lstm = LSTM(hidden_size, return_sequences=True, return_state=True, dropout=0.4)\n",
    "decoder_outputs, _, _ = decoder_lstm(dec_emb, initial_state=[encoder_state_h, encoder_state_c])\n",
    "\n",
    "# 출력층\n",
    "decoder_softmax_layer = Dense(tar_vocab, activation='softmax')\n",
    "decoder_softmax_outputs = decoder_softmax_layer(decoder_outputs) \n",
    "\n",
    "# 모델 정의\n",
    "model = Model([encoder_inputs, decoder_inputs], decoder_softmax_outputs)\n",
    "model.summary()"
   ]
  },
  {
   "cell_type": "markdown",
   "id": "602214d1",
   "metadata": {},
   "source": [
    "3) 어텐션"
   ]
  },
  {
   "cell_type": "code",
   "execution_count": 68,
   "id": "d062a874",
   "metadata": {},
   "outputs": [
    {
     "name": "stdout",
     "output_type": "stream",
     "text": [
      "Model: \"model_2\"\n",
      "__________________________________________________________________________________________________\n",
      "Layer (type)                    Output Shape         Param #     Connected to                     \n",
      "==================================================================================================\n",
      "input_5 (InputLayer)            [(None, 60)]         0                                            \n",
      "__________________________________________________________________________________________________\n",
      "embedding_4 (Embedding)         (None, 60, 128)      2816000     input_5[0][0]                    \n",
      "__________________________________________________________________________________________________\n",
      "lstm_8 (LSTM)                   [(None, 60, 256), (N 394240      embedding_4[0][0]                \n",
      "__________________________________________________________________________________________________\n",
      "input_6 (InputLayer)            [(None, None)]       0                                            \n",
      "__________________________________________________________________________________________________\n",
      "lstm_9 (LSTM)                   [(None, 60, 256), (N 525312      lstm_8[0][0]                     \n",
      "__________________________________________________________________________________________________\n",
      "embedding_5 (Embedding)         (None, None, 128)    1331200     input_6[0][0]                    \n",
      "__________________________________________________________________________________________________\n",
      "lstm_10 (LSTM)                  [(None, 60, 256), (N 525312      lstm_9[0][0]                     \n",
      "__________________________________________________________________________________________________\n",
      "lstm_11 (LSTM)                  [(None, None, 256),  394240      embedding_5[0][0]                \n",
      "                                                                 lstm_10[0][1]                    \n",
      "                                                                 lstm_10[0][2]                    \n",
      "__________________________________________________________________________________________________\n",
      "dense_1 (Dense)                 (None, None, 10400)  2672800     lstm_11[0][0]                    \n",
      "==================================================================================================\n",
      "Total params: 8,659,104\n",
      "Trainable params: 8,659,104\n",
      "Non-trainable params: 0\n",
      "__________________________________________________________________________________________________\n"
     ]
    }
   ],
   "source": [
    "from tensorflow.keras.layers import AdditiveAttention\n",
    "\n",
    "attn_layer = AdditiveAttention(name=\"attention_layer\")\n",
    "\n",
    "attn_out = attn_layer([encoder_output, decoder_outputs]) # query - value - value / https://shorturl.at/srHPQ\n",
    "\n",
    "decoder_concat_input = Concatenate(axis=-1, name=\"concat_layer\")([decoder_outputs, attn_out])\n",
    "\n",
    "decoder_softmax_layer = Dense(tar_vocab, activation=\"softmax\")\n",
    "decoder_softmax_output = decoder_softmax_layer(decoder_concat_input)\n",
    "\n",
    "model = Model([encoder_inputs, decoder_inputs], decoder_softmax_outputs)\n",
    "model.summary()"
   ]
  },
  {
   "cell_type": "markdown",
   "id": "2e15f607",
   "metadata": {},
   "source": [
    "4) 모델 훈련"
   ]
  },
  {
   "cell_type": "code",
   "execution_count": 69,
   "id": "655c9b39",
   "metadata": {},
   "outputs": [
    {
     "name": "stdout",
     "output_type": "stream",
     "text": [
      "Epoch 1/50\n",
      "308/308 [==============================] - 37s 99ms/step - loss: 4.3943 - val_loss: 4.0949\n",
      "Epoch 2/50\n",
      "308/308 [==============================] - 30s 98ms/step - loss: 4.0267 - val_loss: 3.9098\n",
      "Epoch 3/50\n",
      "308/308 [==============================] - 30s 97ms/step - loss: 3.8414 - val_loss: 3.7207\n",
      "Epoch 4/50\n",
      "308/308 [==============================] - 30s 97ms/step - loss: 3.6295 - val_loss: 3.5593\n",
      "Epoch 5/50\n",
      "308/308 [==============================] - 30s 97ms/step - loss: 3.4653 - val_loss: 3.4291\n",
      "Epoch 6/50\n",
      "308/308 [==============================] - 30s 97ms/step - loss: 3.3315 - val_loss: 3.3308\n",
      "Epoch 7/50\n",
      "308/308 [==============================] - 30s 97ms/step - loss: 3.2196 - val_loss: 3.2403\n",
      "Epoch 8/50\n",
      "308/308 [==============================] - 30s 97ms/step - loss: 3.1217 - val_loss: 3.1721\n",
      "Epoch 9/50\n",
      "308/308 [==============================] - 30s 97ms/step - loss: 3.0362 - val_loss: 3.1184\n",
      "Epoch 10/50\n",
      "308/308 [==============================] - 30s 97ms/step - loss: 2.9586 - val_loss: 3.0660\n",
      "Epoch 11/50\n",
      "308/308 [==============================] - 30s 97ms/step - loss: 2.8904 - val_loss: 3.0275\n",
      "Epoch 12/50\n",
      "308/308 [==============================] - 30s 97ms/step - loss: 2.8288 - val_loss: 2.9910\n",
      "Epoch 13/50\n",
      "308/308 [==============================] - 30s 98ms/step - loss: 2.7713 - val_loss: 2.9643\n",
      "Epoch 14/50\n",
      "308/308 [==============================] - 30s 97ms/step - loss: 2.7197 - val_loss: 2.9394\n",
      "Epoch 15/50\n",
      "308/308 [==============================] - 30s 97ms/step - loss: 2.6724 - val_loss: 2.9194\n",
      "Epoch 16/50\n",
      "308/308 [==============================] - 30s 97ms/step - loss: 2.6283 - val_loss: 2.8996\n",
      "Epoch 17/50\n",
      "308/308 [==============================] - 30s 97ms/step - loss: 2.5870 - val_loss: 2.8829\n",
      "Epoch 18/50\n",
      "308/308 [==============================] - 30s 98ms/step - loss: 2.5504 - val_loss: 2.8717\n",
      "Epoch 19/50\n",
      "308/308 [==============================] - 30s 97ms/step - loss: 2.5152 - val_loss: 2.8623\n",
      "Epoch 20/50\n",
      "308/308 [==============================] - 30s 97ms/step - loss: 2.4820 - val_loss: 2.8462\n",
      "Epoch 21/50\n",
      "308/308 [==============================] - 30s 98ms/step - loss: 2.4501 - val_loss: 2.8414\n",
      "Epoch 22/50\n",
      "308/308 [==============================] - 30s 97ms/step - loss: 2.4203 - val_loss: 2.8377\n",
      "Epoch 23/50\n",
      "308/308 [==============================] - 30s 97ms/step - loss: 2.3943 - val_loss: 2.8280\n",
      "Epoch 24/50\n",
      "308/308 [==============================] - 30s 97ms/step - loss: 2.3695 - val_loss: 2.8256\n",
      "Epoch 25/50\n",
      "308/308 [==============================] - 30s 98ms/step - loss: 2.3432 - val_loss: 2.8156\n",
      "Epoch 26/50\n",
      "308/308 [==============================] - 30s 97ms/step - loss: 2.3189 - val_loss: 2.8158\n",
      "Epoch 27/50\n",
      "308/308 [==============================] - 30s 97ms/step - loss: 2.2982 - val_loss: 2.8178\n",
      "Epoch 28/50\n",
      "308/308 [==============================] - 30s 97ms/step - loss: 2.2780 - val_loss: 2.8096\n",
      "Epoch 29/50\n",
      "308/308 [==============================] - 30s 98ms/step - loss: 2.2585 - val_loss: 2.8127\n",
      "Epoch 30/50\n",
      "308/308 [==============================] - 30s 97ms/step - loss: 2.2389 - val_loss: 2.8087\n",
      "Epoch 31/50\n",
      "308/308 [==============================] - 30s 98ms/step - loss: 2.2220 - val_loss: 2.8069\n",
      "Epoch 32/50\n",
      "308/308 [==============================] - 30s 97ms/step - loss: 2.2029 - val_loss: 2.8114\n",
      "Epoch 33/50\n",
      "308/308 [==============================] - 30s 97ms/step - loss: 2.1844 - val_loss: 2.8043\n",
      "Epoch 34/50\n",
      "308/308 [==============================] - 30s 98ms/step - loss: 2.1666 - val_loss: 2.8064\n",
      "Epoch 35/50\n",
      "308/308 [==============================] - 30s 97ms/step - loss: 2.1495 - val_loss: 2.8072\n",
      "Epoch 36/50\n",
      "308/308 [==============================] - 30s 97ms/step - loss: 2.1342 - val_loss: 2.8086\n",
      "Epoch 00036: early stopping\n"
     ]
    }
   ],
   "source": [
    "model.compile(loss=\"sparse_categorical_crossentropy\",\n",
    "             optimizer=\"rmsprop\")\n",
    "\n",
    "es = EarlyStopping(monitor=\"val_loss\", patience=3, verbose=1)\n",
    "\n",
    "X_train, y_train = [encoder_input_train, decoder_input_train], decoder_target_train\n",
    "X_valid, y_valid = [encoder_input_test, decoder_input_test], decoder_target_test\n",
    "\n",
    "history = model.fit(x=X_train, y=y_train,\n",
    "          validation_data=(X_valid, y_valid),\n",
    "          batch_size=256, epochs=50, callbacks=[es])"
   ]
  },
  {
   "cell_type": "markdown",
   "id": "66b18c3f",
   "metadata": {},
   "source": [
    "5) 훈련 내용 시각화"
   ]
  },
  {
   "cell_type": "code",
   "execution_count": 71,
   "id": "9dd83ed2",
   "metadata": {},
   "outputs": [
    {
     "data": {
      "image/png": "[encoded data removed]",
      "text/plain": [
       "<Figure size 432x288 with 1 Axes>"
      ]
     },
     "metadata": {
      "needs_background": "light"
     },
     "output_type": "display_data"
    }
   ],
   "source": [
    "plt.plot(history.history['loss'], label='train')\n",
    "plt.plot(history.history['val_loss'], label='test')\n",
    "plt.legend()\n",
    "plt.show()"
   ]
  },
  {
   "cell_type": "markdown",
   "id": "7d6c6777",
   "metadata": {},
   "source": [
    "6) 추론 모델 구현"
   ]
  },
  {
   "cell_type": "code",
   "execution_count": 72,
   "id": "296fcf53",
   "metadata": {},
   "outputs": [],
   "source": [
    "# word index\n",
    "\n",
    "src_index_to_word = src_tokenizer.index_word # 원문\n",
    "tar_word_to_index = tar_tokenizer.word_index # 헤드라인\n",
    "tar_index_to_word = tar_tokenizer.index_word # 헤드라인"
   ]
  },
  {
   "cell_type": "code",
   "execution_count": 73,
   "id": "935c7d30",
   "metadata": {},
   "outputs": [],
   "source": [
    "# 인코더 설계\n",
    "encoder_model = Model(inputs=encoder_inputs, outputs=[encoder_output, encoder_state_h, encoder_state_c])\n",
    "\n",
    "# 이전 시점의 상태들을 저장하는 텐서\n",
    "decoder_state_input_h = Input(shape=(hidden_size,))\n",
    "decoder_state_input_c = Input(shape=(hidden_size,))\n",
    "\n",
    "dec_emb2 = dec_emb_layer(decoder_inputs)\n",
    "\n",
    "# 문장의 다음 단어를 예측하기 위해서 초기 상태(initial_state)를 이전 시점의 상태로 사용. 이는 뒤의 함수 decode_sequence()에 구현\n",
    "# 훈련 과정에서와 달리 LSTM의 리턴하는 은닉 상태와 셀 상태인 state_h와 state_c를 버리지 않음.\n",
    "decoder_outputs2, state_h2, state_c2 = decoder_lstm(dec_emb2, initial_state=[decoder_state_input_h, decoder_state_input_c])"
   ]
  },
  {
   "cell_type": "code",
   "execution_count": 74,
   "id": "26513a1f",
   "metadata": {},
   "outputs": [],
   "source": [
    "# 어텐션 함수\n",
    "decoder_hidden_state_input = Input(shape=(text_max_len, hidden_size))\n",
    "attn_out_inf = attn_layer([decoder_outputs2, decoder_hidden_state_input])\n",
    "decoder_inf_concat = Concatenate(axis=-1, name='concat')([decoder_outputs2, attn_out_inf])\n",
    "\n",
    "# 디코더의 출력층\n",
    "decoder_outputs2 = decoder_softmax_layer(decoder_inf_concat) \n",
    "\n",
    "# 최종 디코더 모델\n",
    "decoder_model = Model(\n",
    "    [decoder_inputs] + [decoder_hidden_state_input, decoder_state_input_h, decoder_state_input_c],\n",
    "    [decoder_outputs2] + [state_h2, state_c2])"
   ]
  },
  {
   "cell_type": "code",
   "execution_count": 75,
   "id": "e872a4e8",
   "metadata": {},
   "outputs": [],
   "source": [
    "# 디코더 출력 함수\n",
    "\n",
    "def decode_sequence(input_seq):\n",
    "    # 입력으로부터 인코더의 상태를 얻음\n",
    "    e_out, e_h, e_c = encoder_model.predict(input_seq)\n",
    "\n",
    "     # <SOS>에 해당하는 토큰 생성\n",
    "    target_seq = np.zeros((1,1))\n",
    "    target_seq[0, 0] = tar_word_to_index['sostoken']\n",
    "\n",
    "    stop_condition = False\n",
    "    decoded_sentence = ''\n",
    "    while not stop_condition: # stop_condition이 True가 될 때까지 루프 반복\n",
    "\n",
    "        output_tokens, h, c = decoder_model.predict([target_seq] + [e_out, e_h, e_c])\n",
    "        sampled_token_index = np.argmax(output_tokens[0, -1, :])\n",
    "        sampled_token = tar_index_to_word[sampled_token_index]\n",
    "\n",
    "        if (sampled_token!='eostoken'):\n",
    "            decoded_sentence += ' '+sampled_token\n",
    "\n",
    "        #  <eos>에 도달하거나 최대 길이를 넘으면 중단.\n",
    "        if (sampled_token == 'eostoken'  or len(decoded_sentence.split()) >= (summary_max_len-1)):\n",
    "            stop_condition = True\n",
    "\n",
    "        # 길이가 1인 타겟 시퀀스를 업데이트\n",
    "        target_seq = np.zeros((1,1))\n",
    "        target_seq[0, 0] = sampled_token_index\n",
    "\n",
    "        # 상태를 업데이트 합니다.\n",
    "        e_h, e_c = h, c\n",
    "\n",
    "    return decoded_sentence"
   ]
  },
  {
   "cell_type": "markdown",
   "id": "bca883ad",
   "metadata": {},
   "source": [
    "## 4. 실제 결과와 비교"
   ]
  },
  {
   "cell_type": "markdown",
   "id": "6200794b",
   "metadata": {},
   "source": [
    "- 모델 테스트"
   ]
  },
  {
   "cell_type": "code",
   "execution_count": 95,
   "id": "68b6ebea",
   "metadata": {},
   "outputs": [
    {
     "name": "stdout",
     "output_type": "stream",
     "text": [
      "원문 : two startups namely printed electric car lakh claimed takes three days make car top speed kmph travel km single charge components car printed except seats glass \n",
      "실제 요약 : birth led five four state affect added saying us startup \n",
      "예측 요약 :  charles charles charles charles eggs kurdish rjd songs insecure insecure insecure must ecb must soldiers\n",
      "\n",
      "\n",
      "원문 : microsoft pledged million next five years ai earth program company announced program announced july make ai accessible researchers solve environmental challenges microsoft also provide universities organisations advanced training put ai best use microsoft president brad smith said \n",
      "실제 요약 : process communication using year platform us getting links \n",
      "예측 요약 :  bsf bsf agrees ysr leads lapse defender pl sperm uniforms jahan uniforms uniforms intervenes sad\n",
      "\n",
      "\n"
     ]
    }
   ],
   "source": [
    "# 원문의 정수 시퀀스를 텍스트 시퀀스로 변환\n",
    "def seq2text(input_seq):\n",
    "    temp=''\n",
    "    for i in input_seq:\n",
    "        if (i!=0):\n",
    "            temp = temp + src_index_to_word[i]+' '\n",
    "    return temp\n",
    "\n",
    "# 요약문의 정수 시퀀스를 텍스트 시퀀스로 변환\n",
    "def seq2summary(input_seq):\n",
    "    temp=''\n",
    "    for i in input_seq[1:-1]:\n",
    "        if (i!=0):\n",
    "            temp = temp + src_index_to_word[i]+' '\n",
    "    return temp\n",
    "\n",
    "for i in range(51, 53):\n",
    "    print(\"원문 :\", seq2text(encoder_input_test[i]))\n",
    "    print(\"실제 요약 :\", seq2summary(decoder_input_test[i]))\n",
    "    print(\"예측 요약 :\", decode_sequence(encoder_input_test[i].reshape(1, text_max_len)))\n",
    "    print(\"\\n\")"
   ]
  },
  {
   "cell_type": "markdown",
   "id": "6e33a9fd",
   "metadata": {},
   "source": [
    "## 5. Summa를 이용해 추출적 요약"
   ]
  },
  {
   "cell_type": "code",
   "execution_count": 132,
   "id": "e28b75c0",
   "metadata": {},
   "outputs": [],
   "source": [
    "# import library\n",
    "\n",
    "from summa.summarizer import summarize\n",
    "from summa import keywords"
   ]
  },
  {
   "cell_type": "markdown",
   "id": "845cc850",
   "metadata": {},
   "source": [
    "1) ratio 기준"
   ]
  },
  {
   "cell_type": "code",
   "execution_count": 134,
   "id": "a2890f27",
   "metadata": {},
   "outputs": [
    {
     "name": "stdout",
     "output_type": "stream",
     "text": [
      "원문 : two startups namely printed electric car lakh claimed takes three days make car top speed kmph travel km single charge components car printed except seats glass \n",
      "실제 요약 : birth led five four state affect added saying us startup \n",
      "예측 요약 : []\n",
      "키워드:  ['car', 'kmph', 'claimed']\n",
      "\n",
      "\n",
      "원문 : microsoft pledged million next five years ai earth program company announced program announced july make ai accessible researchers solve environmental challenges microsoft also provide universities organisations advanced training put ai best use microsoft president brad smith said \n",
      "실제 요약 : process communication using year platform us getting links \n",
      "예측 요약 : []\n",
      "키워드:  ['ai', 'microsoft', 'advanced', 'universities', 'announced']\n",
      "\n",
      "\n"
     ]
    }
   ],
   "source": [
    "for i in range(51, 53):\n",
    "    print(\"원문 :\", seq2text(encoder_input_test[i]))\n",
    "    print(\"실제 요약 :\", seq2summary(decoder_input_test[i]))\n",
    "    print(\"예측 요약 :\", summarize(text=seq2text(encoder_input_test[i]), ratio=0.1, split=True))\n",
    "    print(\"키워드: \", keywords.keywords(seq2text(encoder_input_test[i]), split=True))\n",
    "    print(\"\\n\")"
   ]
  },
  {
   "cell_type": "markdown",
   "id": "f85f88b4",
   "metadata": {},
   "source": [
    "2) word 기준"
   ]
  },
  {
   "cell_type": "code",
   "execution_count": 135,
   "id": "8a7d0323",
   "metadata": {},
   "outputs": [
    {
     "name": "stdout",
     "output_type": "stream",
     "text": [
      "원문 : two startups namely printed electric car lakh claimed takes three days make car top speed kmph travel km single charge components car printed except seats glass \n",
      "실제 요약 : birth led five four state affect added saying us startup \n",
      "예측 요약 : []\n",
      "키워드:  ['car', 'kmph', 'claimed']\n",
      "\n",
      "\n",
      "원문 : microsoft pledged million next five years ai earth program company announced program announced july make ai accessible researchers solve environmental challenges microsoft also provide universities organisations advanced training put ai best use microsoft president brad smith said \n",
      "실제 요약 : process communication using year platform us getting links \n",
      "예측 요약 : []\n",
      "키워드:  ['ai', 'microsoft', 'advanced', 'universities', 'announced']\n",
      "\n",
      "\n"
     ]
    }
   ],
   "source": [
    "for i in range(51, 53):\n",
    "    print(\"원문 :\", seq2text(encoder_input_test[i]))\n",
    "    print(\"실제 요약 :\", seq2summary(decoder_input_test[i]))\n",
    "    print(\"예측 요약 :\", summarize(text=seq2text(encoder_input_test[i]), words=50, split=True))\n",
    "    print(\"키워드: \", keywords.keywords(seq2text(encoder_input_test[i]), split=True))\n",
    "    print(\"\\n\")"
   ]
  },
  {
   "cell_type": "markdown",
   "id": "40fa9f9e",
   "metadata": {},
   "source": [
    "## 회고\n",
    "\n",
    "* 배운 점\n",
    "  - Keras Attention과 LSTM을 이용해 요약 seq2seq 모델을 구현하는 방법을 학습했다.\n",
    "* 아쉬운 점\n",
    "  - 학습시에 시간이 오래걸려서 더 많이 시도해볼 시간이 부족해서 아쉬웠다.\n",
    "* 느낀 점\n",
    "  - 언어 모델의 구조에 대해서 더 깊이있게 이해하고 파악하면 재미있을 것 같다.\n",
    "* 어려웠던 점\n",
    "  - 추론 모델을 설계하는 부분이 한 번에 이해되지 않아서 어려웠다. "
   ]
  }
 ],
 "metadata": {
  "kernelspec": {
   "display_name": "Python 3 (ipykernel)",
   "language": "python",
   "name": "python3"
  },
  "language_info": {
   "codemirror_mode": {
    "name": "ipython",
    "version": 3
   },
   "file_extension": ".py",
   "mimetype": "text/x-python",
   "name": "python",
   "nbconvert_exporter": "python",
   "pygments_lexer": "ipython3",
   "version": "3.9.7"
  }
 },
 "nbformat": 4,
 "nbformat_minor": 5
}
